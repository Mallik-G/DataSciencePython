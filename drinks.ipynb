{
 "cells": [
  {
   "cell_type": "markdown",
   "metadata": {},
   "source": [
    "# 1. Frame the Problem\n",
    "\n",
    "> \"I think, therefore I am\"\n",
    "\n",
    "- What type of questions can be answered?\n",
    "- Developing a hypothesis drive approach.\n",
    "- Making the case.\n",
    "\n",
    "\n",
    "Questions we will answer on alcohol topic across countries\n",
    "## Descriptive\n",
    "- Which are the leading alcohol drinking countries by beer, wine and spirit?\n",
    "- What is the trend in alcohol consumption in Singapore across the years?\n",
    "\n",
    "## Exploratory / Inferential\n",
    "- Has alcohol consumption declined in Singapore in the recent years?\n",
    "\n",
    "\n",
    "\n",
    "# 2. Acquire the Data\n",
    "\n",
    "> \"Data is the new oil\"\n",
    "\n",
    "- Download from an internal system\n",
    "- Obtained from client, or other 3rd party\n",
    "- Extracted from a web-based API\n",
    "- Scraped from a website\n",
    "- Extracted from a PDF file\n",
    "- Gathered manually and recorded\n",
    "\n",
    "We will using the Global Information System on Alcohol and Health (GISAH) maintained by WHO to answer the questions. \n",
    "\n",
    "*The WHO Global Information System on Alcohol and Health (GISAH) provides easy and rapid access to a wide range of alcohol-related health indicators. It is an essential tool for assessing and monitoring the health situation and trends related to alcohol consumption, alcohol-related harm, and policy responses in countries.*\n",
    "\n",
    "You can see an overview at http://www.who.int/gho/alcohol/en/.\n",
    "\n",
    "\n",
    "## Principle: Load the Data \n",
    "\n",
    "The datasets from GISAH are available at http://apps.who.int/gho/data/node.main.GISAH?lang=en&showonly=GISAH\n",
    "\n",
    "We want the alcohol consumption by country\n",
    "\n",
    "- Recorded alcohol per capita consumption, 1960-1979 by country - http://apps.who.int/gho/data/node.main.A1025?lang=en&showonly=GISAH\n",
    "\n",
    "- Recorded alcohol per capita consumption, 1980-1999 by country - http://apps.who.int/gho/data/node.main.A1024?lang=en&showonly=GISAH\n",
    "\n",
    "- Recorded alcohol per capita consumption, 2000 onwards by country  http://apps.who.int/gho/data/node.main.A1026?lang=en&showonly=GISAH"
   ]
  },
  {
   "cell_type": "code",
   "execution_count": 183,
   "metadata": {
    "collapsed": true
   },
   "outputs": [],
   "source": [
    "# Import the libraries we need, which is Pandas and Numpy\n",
    "import pandas as pd\n",
    "import numpy as np"
   ]
  },
  {
   "cell_type": "code",
   "execution_count": 184,
   "metadata": {
    "collapsed": false
   },
   "outputs": [],
   "source": [
    "df1 = pd.read_csv('data/drinks2000.csv')"
   ]
  },
  {
   "cell_type": "code",
   "execution_count": 185,
   "metadata": {
    "collapsed": false
   },
   "outputs": [
    {
     "data": {
      "text/html": [
       "<div>\n",
       "<table border=\"1\" class=\"dataframe\">\n",
       "  <thead>\n",
       "    <tr style=\"text-align: right;\">\n",
       "      <th></th>\n",
       "      <th>Country; Data Source; Beverage Types</th>\n",
       "      <th>Recorded alcohol per capita (15+) consumption (in litres of pure alcohol); 2015</th>\n",
       "      <th>Recorded alcohol per capita (15+) consumption (in litres of pure alcohol); 2014</th>\n",
       "      <th>Recorded alcohol per capita (15+) consumption (in litres of pure alcohol); 2013</th>\n",
       "      <th>Recorded alcohol per capita (15+) consumption (in litres of pure alcohol); 2012</th>\n",
       "      <th>Recorded alcohol per capita (15+) consumption (in litres of pure alcohol); 2011</th>\n",
       "      <th>Recorded alcohol per capita (15+) consumption (in litres of pure alcohol); 2010</th>\n",
       "      <th>Recorded alcohol per capita (15+) consumption (in litres of pure alcohol); 2009</th>\n",
       "      <th>Recorded alcohol per capita (15+) consumption (in litres of pure alcohol); 2008</th>\n",
       "      <th>Recorded alcohol per capita (15+) consumption (in litres of pure alcohol); 2007</th>\n",
       "      <th>Recorded alcohol per capita (15+) consumption (in litres of pure alcohol); 2006</th>\n",
       "      <th>Recorded alcohol per capita (15+) consumption (in litres of pure alcohol); 2005</th>\n",
       "      <th>Recorded alcohol per capita (15+) consumption (in litres of pure alcohol); 2004</th>\n",
       "      <th>Recorded alcohol per capita (15+) consumption (in litres of pure alcohol); 2003</th>\n",
       "      <th>Recorded alcohol per capita (15+) consumption (in litres of pure alcohol); 2002</th>\n",
       "      <th>Recorded alcohol per capita (15+) consumption (in litres of pure alcohol); 2001</th>\n",
       "      <th>Recorded alcohol per capita (15+) consumption (in litres of pure alcohol); 2000</th>\n",
       "    </tr>\n",
       "  </thead>\n",
       "  <tbody>\n",
       "    <tr>\n",
       "      <th>0</th>\n",
       "      <td>Afghanistan; Data source; All types</td>\n",
       "      <td>NaN</td>\n",
       "      <td>NaN</td>\n",
       "      <td>0.01</td>\n",
       "      <td>0.01</td>\n",
       "      <td>0.01</td>\n",
       "      <td>0.01</td>\n",
       "      <td>0.01</td>\n",
       "      <td>0.03</td>\n",
       "      <td>0.02</td>\n",
       "      <td>0.03</td>\n",
       "      <td>0.02</td>\n",
       "      <td>0.02</td>\n",
       "      <td>0.01</td>\n",
       "      <td>0.01</td>\n",
       "      <td>0</td>\n",
       "      <td>0</td>\n",
       "    </tr>\n",
       "    <tr>\n",
       "      <th>1</th>\n",
       "      <td>Afghanistan; Data source; Beer</td>\n",
       "      <td>NaN</td>\n",
       "      <td>NaN</td>\n",
       "      <td>0.01</td>\n",
       "      <td>0.01</td>\n",
       "      <td>0.01</td>\n",
       "      <td>0.01</td>\n",
       "      <td>0.01</td>\n",
       "      <td>0.01</td>\n",
       "      <td>0.01</td>\n",
       "      <td>0.01</td>\n",
       "      <td>0.01</td>\n",
       "      <td>0.02</td>\n",
       "      <td>0</td>\n",
       "      <td>0</td>\n",
       "      <td>0</td>\n",
       "      <td>0</td>\n",
       "    </tr>\n",
       "    <tr>\n",
       "      <th>2</th>\n",
       "      <td>Afghanistan; Data source; Wine</td>\n",
       "      <td>NaN</td>\n",
       "      <td>NaN</td>\n",
       "      <td>0.00</td>\n",
       "      <td>0.00</td>\n",
       "      <td>0.00</td>\n",
       "      <td>0</td>\n",
       "      <td>0</td>\n",
       "      <td>0</td>\n",
       "      <td>0.01</td>\n",
       "      <td>0.01</td>\n",
       "      <td>0</td>\n",
       "      <td>0</td>\n",
       "      <td>0</td>\n",
       "      <td>0</td>\n",
       "      <td>0</td>\n",
       "      <td>0</td>\n",
       "    </tr>\n",
       "    <tr>\n",
       "      <th>3</th>\n",
       "      <td>Afghanistan; Data source; Spirits</td>\n",
       "      <td>NaN</td>\n",
       "      <td>NaN</td>\n",
       "      <td>0.00</td>\n",
       "      <td>0.00</td>\n",
       "      <td>0.00</td>\n",
       "      <td>0</td>\n",
       "      <td>0</td>\n",
       "      <td>0.02</td>\n",
       "      <td>0</td>\n",
       "      <td>0.01</td>\n",
       "      <td>0.01</td>\n",
       "      <td>0</td>\n",
       "      <td>0.01</td>\n",
       "      <td>0</td>\n",
       "      <td>0</td>\n",
       "      <td>0</td>\n",
       "    </tr>\n",
       "    <tr>\n",
       "      <th>4</th>\n",
       "      <td>Afghanistan; Data source; Other alcoholic beve...</td>\n",
       "      <td>NaN</td>\n",
       "      <td>NaN</td>\n",
       "      <td>0.00</td>\n",
       "      <td>0.00</td>\n",
       "      <td>0.00</td>\n",
       "      <td>0</td>\n",
       "      <td>0</td>\n",
       "      <td>0</td>\n",
       "      <td>0</td>\n",
       "      <td>0</td>\n",
       "      <td>0</td>\n",
       "      <td>0</td>\n",
       "      <td>0</td>\n",
       "      <td>0</td>\n",
       "      <td>0</td>\n",
       "      <td>0</td>\n",
       "    </tr>\n",
       "  </tbody>\n",
       "</table>\n",
       "</div>"
      ],
      "text/plain": [
       "                Country; Data Source; Beverage Types  \\\n",
       "0                Afghanistan; Data source; All types   \n",
       "1                     Afghanistan; Data source; Beer   \n",
       "2                     Afghanistan; Data source; Wine   \n",
       "3                  Afghanistan; Data source; Spirits   \n",
       "4  Afghanistan; Data source; Other alcoholic beve...   \n",
       "\n",
       "   Recorded alcohol per capita (15+) consumption (in litres of pure alcohol); 2015  \\\n",
       "0                                                NaN                                 \n",
       "1                                                NaN                                 \n",
       "2                                                NaN                                 \n",
       "3                                                NaN                                 \n",
       "4                                                NaN                                 \n",
       "\n",
       "   Recorded alcohol per capita (15+) consumption (in litres of pure alcohol); 2014  \\\n",
       "0                                                NaN                                 \n",
       "1                                                NaN                                 \n",
       "2                                                NaN                                 \n",
       "3                                                NaN                                 \n",
       "4                                                NaN                                 \n",
       "\n",
       "   Recorded alcohol per capita (15+) consumption (in litres of pure alcohol); 2013  \\\n",
       "0                                               0.01                                 \n",
       "1                                               0.01                                 \n",
       "2                                               0.00                                 \n",
       "3                                               0.00                                 \n",
       "4                                               0.00                                 \n",
       "\n",
       "   Recorded alcohol per capita (15+) consumption (in litres of pure alcohol); 2012  \\\n",
       "0                                               0.01                                 \n",
       "1                                               0.01                                 \n",
       "2                                               0.00                                 \n",
       "3                                               0.00                                 \n",
       "4                                               0.00                                 \n",
       "\n",
       "   Recorded alcohol per capita (15+) consumption (in litres of pure alcohol); 2011  \\\n",
       "0                                               0.01                                 \n",
       "1                                               0.01                                 \n",
       "2                                               0.00                                 \n",
       "3                                               0.00                                 \n",
       "4                                               0.00                                 \n",
       "\n",
       "  Recorded alcohol per capita (15+) consumption (in litres of pure alcohol); 2010  \\\n",
       "0                                               0.01                                \n",
       "1                                               0.01                                \n",
       "2                                                  0                                \n",
       "3                                                  0                                \n",
       "4                                                  0                                \n",
       "\n",
       "  Recorded alcohol per capita (15+) consumption (in litres of pure alcohol); 2009  \\\n",
       "0                                               0.01                                \n",
       "1                                               0.01                                \n",
       "2                                                  0                                \n",
       "3                                                  0                                \n",
       "4                                                  0                                \n",
       "\n",
       "  Recorded alcohol per capita (15+) consumption (in litres of pure alcohol); 2008  \\\n",
       "0                                               0.03                                \n",
       "1                                               0.01                                \n",
       "2                                                  0                                \n",
       "3                                               0.02                                \n",
       "4                                                  0                                \n",
       "\n",
       "  Recorded alcohol per capita (15+) consumption (in litres of pure alcohol); 2007  \\\n",
       "0                                               0.02                                \n",
       "1                                               0.01                                \n",
       "2                                               0.01                                \n",
       "3                                                  0                                \n",
       "4                                                  0                                \n",
       "\n",
       "  Recorded alcohol per capita (15+) consumption (in litres of pure alcohol); 2006  \\\n",
       "0                                               0.03                                \n",
       "1                                               0.01                                \n",
       "2                                               0.01                                \n",
       "3                                               0.01                                \n",
       "4                                                  0                                \n",
       "\n",
       "  Recorded alcohol per capita (15+) consumption (in litres of pure alcohol); 2005  \\\n",
       "0                                               0.02                                \n",
       "1                                               0.01                                \n",
       "2                                                  0                                \n",
       "3                                               0.01                                \n",
       "4                                                  0                                \n",
       "\n",
       "  Recorded alcohol per capita (15+) consumption (in litres of pure alcohol); 2004  \\\n",
       "0                                               0.02                                \n",
       "1                                               0.02                                \n",
       "2                                                  0                                \n",
       "3                                                  0                                \n",
       "4                                                  0                                \n",
       "\n",
       "  Recorded alcohol per capita (15+) consumption (in litres of pure alcohol); 2003  \\\n",
       "0                                               0.01                                \n",
       "1                                                  0                                \n",
       "2                                                  0                                \n",
       "3                                               0.01                                \n",
       "4                                                  0                                \n",
       "\n",
       "  Recorded alcohol per capita (15+) consumption (in litres of pure alcohol); 2002  \\\n",
       "0                                               0.01                                \n",
       "1                                                  0                                \n",
       "2                                                  0                                \n",
       "3                                                  0                                \n",
       "4                                                  0                                \n",
       "\n",
       "  Recorded alcohol per capita (15+) consumption (in litres of pure alcohol); 2001  \\\n",
       "0                                                  0                                \n",
       "1                                                  0                                \n",
       "2                                                  0                                \n",
       "3                                                  0                                \n",
       "4                                                  0                                \n",
       "\n",
       "  Recorded alcohol per capita (15+) consumption (in litres of pure alcohol); 2000  \n",
       "0                                                  0                               \n",
       "1                                                  0                               \n",
       "2                                                  0                               \n",
       "3                                                  0                               \n",
       "4                                                  0                               "
      ]
     },
     "execution_count": 185,
     "metadata": {},
     "output_type": "execute_result"
    }
   ],
   "source": [
    "df1.head()"
   ]
  },
  {
   "cell_type": "code",
   "execution_count": 186,
   "metadata": {
    "collapsed": false
   },
   "outputs": [
    {
     "data": {
      "text/plain": [
       "(984, 17)"
      ]
     },
     "execution_count": 186,
     "metadata": {},
     "output_type": "execute_result"
    }
   ],
   "source": [
    "df1.shape"
   ]
  },
  {
   "cell_type": "markdown",
   "metadata": {},
   "source": [
    "## Principle: Fix the Column Header"
   ]
  },
  {
   "cell_type": "code",
   "execution_count": 187,
   "metadata": {
    "collapsed": true
   },
   "outputs": [],
   "source": [
    "years1 = list(range(2015, 1999, -1))"
   ]
  },
  {
   "cell_type": "code",
   "execution_count": 188,
   "metadata": {
    "collapsed": false
   },
   "outputs": [
    {
     "data": {
      "text/plain": [
       "[2015,\n",
       " 2014,\n",
       " 2013,\n",
       " 2012,\n",
       " 2011,\n",
       " 2010,\n",
       " 2009,\n",
       " 2008,\n",
       " 2007,\n",
       " 2006,\n",
       " 2005,\n",
       " 2004,\n",
       " 2003,\n",
       " 2002,\n",
       " 2001,\n",
       " 2000]"
      ]
     },
     "execution_count": 188,
     "metadata": {},
     "output_type": "execute_result"
    }
   ],
   "source": [
    "years1"
   ]
  },
  {
   "cell_type": "code",
   "execution_count": 189,
   "metadata": {
    "collapsed": false
   },
   "outputs": [],
   "source": [
    "header1 = ['description']"
   ]
  },
  {
   "cell_type": "code",
   "execution_count": 190,
   "metadata": {
    "collapsed": false
   },
   "outputs": [],
   "source": [
    "header1.extend(years1)"
   ]
  },
  {
   "cell_type": "code",
   "execution_count": 191,
   "metadata": {
    "collapsed": false
   },
   "outputs": [
    {
     "data": {
      "text/plain": [
       "['description',\n",
       " 2015,\n",
       " 2014,\n",
       " 2013,\n",
       " 2012,\n",
       " 2011,\n",
       " 2010,\n",
       " 2009,\n",
       " 2008,\n",
       " 2007,\n",
       " 2006,\n",
       " 2005,\n",
       " 2004,\n",
       " 2003,\n",
       " 2002,\n",
       " 2001,\n",
       " 2000]"
      ]
     },
     "execution_count": 191,
     "metadata": {},
     "output_type": "execute_result"
    }
   ],
   "source": [
    "header1"
   ]
  },
  {
   "cell_type": "code",
   "execution_count": 192,
   "metadata": {
    "collapsed": true
   },
   "outputs": [],
   "source": [
    "df1.columns = header1"
   ]
  },
  {
   "cell_type": "code",
   "execution_count": 193,
   "metadata": {
    "collapsed": false
   },
   "outputs": [
    {
     "data": {
      "text/html": [
       "<div>\n",
       "<table border=\"1\" class=\"dataframe\">\n",
       "  <thead>\n",
       "    <tr style=\"text-align: right;\">\n",
       "      <th></th>\n",
       "      <th>description</th>\n",
       "      <th>2015</th>\n",
       "      <th>2014</th>\n",
       "      <th>2013</th>\n",
       "      <th>2012</th>\n",
       "      <th>2011</th>\n",
       "      <th>2010</th>\n",
       "      <th>2009</th>\n",
       "      <th>2008</th>\n",
       "      <th>2007</th>\n",
       "      <th>2006</th>\n",
       "      <th>2005</th>\n",
       "      <th>2004</th>\n",
       "      <th>2003</th>\n",
       "      <th>2002</th>\n",
       "      <th>2001</th>\n",
       "      <th>2000</th>\n",
       "    </tr>\n",
       "  </thead>\n",
       "  <tbody>\n",
       "    <tr>\n",
       "      <th>0</th>\n",
       "      <td>Afghanistan; Data source; All types</td>\n",
       "      <td>NaN</td>\n",
       "      <td>NaN</td>\n",
       "      <td>0.01</td>\n",
       "      <td>0.01</td>\n",
       "      <td>0.01</td>\n",
       "      <td>0.01</td>\n",
       "      <td>0.01</td>\n",
       "      <td>0.03</td>\n",
       "      <td>0.02</td>\n",
       "      <td>0.03</td>\n",
       "      <td>0.02</td>\n",
       "      <td>0.02</td>\n",
       "      <td>0.01</td>\n",
       "      <td>0.01</td>\n",
       "      <td>0</td>\n",
       "      <td>0</td>\n",
       "    </tr>\n",
       "    <tr>\n",
       "      <th>1</th>\n",
       "      <td>Afghanistan; Data source; Beer</td>\n",
       "      <td>NaN</td>\n",
       "      <td>NaN</td>\n",
       "      <td>0.01</td>\n",
       "      <td>0.01</td>\n",
       "      <td>0.01</td>\n",
       "      <td>0.01</td>\n",
       "      <td>0.01</td>\n",
       "      <td>0.01</td>\n",
       "      <td>0.01</td>\n",
       "      <td>0.01</td>\n",
       "      <td>0.01</td>\n",
       "      <td>0.02</td>\n",
       "      <td>0</td>\n",
       "      <td>0</td>\n",
       "      <td>0</td>\n",
       "      <td>0</td>\n",
       "    </tr>\n",
       "    <tr>\n",
       "      <th>2</th>\n",
       "      <td>Afghanistan; Data source; Wine</td>\n",
       "      <td>NaN</td>\n",
       "      <td>NaN</td>\n",
       "      <td>0.00</td>\n",
       "      <td>0.00</td>\n",
       "      <td>0.00</td>\n",
       "      <td>0</td>\n",
       "      <td>0</td>\n",
       "      <td>0</td>\n",
       "      <td>0.01</td>\n",
       "      <td>0.01</td>\n",
       "      <td>0</td>\n",
       "      <td>0</td>\n",
       "      <td>0</td>\n",
       "      <td>0</td>\n",
       "      <td>0</td>\n",
       "      <td>0</td>\n",
       "    </tr>\n",
       "    <tr>\n",
       "      <th>3</th>\n",
       "      <td>Afghanistan; Data source; Spirits</td>\n",
       "      <td>NaN</td>\n",
       "      <td>NaN</td>\n",
       "      <td>0.00</td>\n",
       "      <td>0.00</td>\n",
       "      <td>0.00</td>\n",
       "      <td>0</td>\n",
       "      <td>0</td>\n",
       "      <td>0.02</td>\n",
       "      <td>0</td>\n",
       "      <td>0.01</td>\n",
       "      <td>0.01</td>\n",
       "      <td>0</td>\n",
       "      <td>0.01</td>\n",
       "      <td>0</td>\n",
       "      <td>0</td>\n",
       "      <td>0</td>\n",
       "    </tr>\n",
       "    <tr>\n",
       "      <th>4</th>\n",
       "      <td>Afghanistan; Data source; Other alcoholic beve...</td>\n",
       "      <td>NaN</td>\n",
       "      <td>NaN</td>\n",
       "      <td>0.00</td>\n",
       "      <td>0.00</td>\n",
       "      <td>0.00</td>\n",
       "      <td>0</td>\n",
       "      <td>0</td>\n",
       "      <td>0</td>\n",
       "      <td>0</td>\n",
       "      <td>0</td>\n",
       "      <td>0</td>\n",
       "      <td>0</td>\n",
       "      <td>0</td>\n",
       "      <td>0</td>\n",
       "      <td>0</td>\n",
       "      <td>0</td>\n",
       "    </tr>\n",
       "  </tbody>\n",
       "</table>\n",
       "</div>"
      ],
      "text/plain": [
       "                                         description  2015  2014  2013  2012  \\\n",
       "0                Afghanistan; Data source; All types   NaN   NaN  0.01  0.01   \n",
       "1                     Afghanistan; Data source; Beer   NaN   NaN  0.01  0.01   \n",
       "2                     Afghanistan; Data source; Wine   NaN   NaN  0.00  0.00   \n",
       "3                  Afghanistan; Data source; Spirits   NaN   NaN  0.00  0.00   \n",
       "4  Afghanistan; Data source; Other alcoholic beve...   NaN   NaN  0.00  0.00   \n",
       "\n",
       "   2011  2010  2009  2008  2007  2006  2005  2004  2003  2002 2001 2000  \n",
       "0  0.01  0.01  0.01  0.03  0.02  0.03  0.02  0.02  0.01  0.01    0    0  \n",
       "1  0.01  0.01  0.01  0.01  0.01  0.01  0.01  0.02     0     0    0    0  \n",
       "2  0.00     0     0     0  0.01  0.01     0     0     0     0    0    0  \n",
       "3  0.00     0     0  0.02     0  0.01  0.01     0  0.01     0    0    0  \n",
       "4  0.00     0     0     0     0     0     0     0     0     0    0    0  "
      ]
     },
     "execution_count": 193,
     "metadata": {},
     "output_type": "execute_result"
    }
   ],
   "source": [
    "df1.head()"
   ]
  },
  {
   "cell_type": "markdown",
   "metadata": {},
   "source": [
    "### Exercise \n",
    "1. Load the drinks1960 and drinks1980 csv files and fix the column header"
   ]
  },
  {
   "cell_type": "code",
   "execution_count": 194,
   "metadata": {
    "collapsed": false
   },
   "outputs": [
    {
     "data": {
      "text/html": [
       "<div>\n",
       "<table border=\"1\" class=\"dataframe\">\n",
       "  <thead>\n",
       "    <tr style=\"text-align: right;\">\n",
       "      <th></th>\n",
       "      <th>description</th>\n",
       "      <th>1999</th>\n",
       "      <th>1998</th>\n",
       "      <th>1997</th>\n",
       "      <th>1996</th>\n",
       "      <th>1995</th>\n",
       "      <th>1994</th>\n",
       "      <th>1993</th>\n",
       "      <th>1992</th>\n",
       "      <th>1991</th>\n",
       "      <th>...</th>\n",
       "      <th>1989</th>\n",
       "      <th>1988</th>\n",
       "      <th>1987</th>\n",
       "      <th>1986</th>\n",
       "      <th>1985</th>\n",
       "      <th>1984</th>\n",
       "      <th>1983</th>\n",
       "      <th>1982</th>\n",
       "      <th>1981</th>\n",
       "      <th>1980</th>\n",
       "    </tr>\n",
       "  </thead>\n",
       "  <tbody>\n",
       "    <tr>\n",
       "      <th>0</th>\n",
       "      <td>Afghanistan; Data source; All types</td>\n",
       "      <td>0</td>\n",
       "      <td>0</td>\n",
       "      <td>0</td>\n",
       "      <td>0</td>\n",
       "      <td>0</td>\n",
       "      <td>0</td>\n",
       "      <td>0</td>\n",
       "      <td>0</td>\n",
       "      <td>0</td>\n",
       "      <td>...</td>\n",
       "      <td>0</td>\n",
       "      <td>0</td>\n",
       "      <td>0</td>\n",
       "      <td>0</td>\n",
       "      <td>0</td>\n",
       "      <td>0</td>\n",
       "      <td>0</td>\n",
       "      <td>0</td>\n",
       "      <td>0</td>\n",
       "      <td>0</td>\n",
       "    </tr>\n",
       "    <tr>\n",
       "      <th>1</th>\n",
       "      <td>Afghanistan; Data source; Beer</td>\n",
       "      <td>0</td>\n",
       "      <td>0</td>\n",
       "      <td>0</td>\n",
       "      <td>0</td>\n",
       "      <td>0</td>\n",
       "      <td>0</td>\n",
       "      <td>0</td>\n",
       "      <td>0</td>\n",
       "      <td>0</td>\n",
       "      <td>...</td>\n",
       "      <td>0</td>\n",
       "      <td>0</td>\n",
       "      <td>0</td>\n",
       "      <td>0</td>\n",
       "      <td>0</td>\n",
       "      <td>0</td>\n",
       "      <td>0</td>\n",
       "      <td>0</td>\n",
       "      <td>0</td>\n",
       "      <td>0</td>\n",
       "    </tr>\n",
       "    <tr>\n",
       "      <th>2</th>\n",
       "      <td>Afghanistan; Data source; Wine</td>\n",
       "      <td>0</td>\n",
       "      <td>0</td>\n",
       "      <td>0</td>\n",
       "      <td>0</td>\n",
       "      <td>0</td>\n",
       "      <td>0</td>\n",
       "      <td>0</td>\n",
       "      <td>0</td>\n",
       "      <td>0</td>\n",
       "      <td>...</td>\n",
       "      <td>0</td>\n",
       "      <td>0</td>\n",
       "      <td>0</td>\n",
       "      <td>0</td>\n",
       "      <td>0</td>\n",
       "      <td>0</td>\n",
       "      <td>0</td>\n",
       "      <td>0</td>\n",
       "      <td>0</td>\n",
       "      <td>0</td>\n",
       "    </tr>\n",
       "    <tr>\n",
       "      <th>3</th>\n",
       "      <td>Afghanistan; Data source; Spirits</td>\n",
       "      <td>0</td>\n",
       "      <td>0</td>\n",
       "      <td>0</td>\n",
       "      <td>0</td>\n",
       "      <td>0</td>\n",
       "      <td>0</td>\n",
       "      <td>0</td>\n",
       "      <td>0</td>\n",
       "      <td>0</td>\n",
       "      <td>...</td>\n",
       "      <td>0</td>\n",
       "      <td>0</td>\n",
       "      <td>0</td>\n",
       "      <td>0</td>\n",
       "      <td>0</td>\n",
       "      <td>0</td>\n",
       "      <td>0</td>\n",
       "      <td>0</td>\n",
       "      <td>0</td>\n",
       "      <td>0</td>\n",
       "    </tr>\n",
       "    <tr>\n",
       "      <th>4</th>\n",
       "      <td>Afghanistan; Data source; Other alcoholic beve...</td>\n",
       "      <td>0</td>\n",
       "      <td>0</td>\n",
       "      <td>0</td>\n",
       "      <td>0</td>\n",
       "      <td>0</td>\n",
       "      <td>0</td>\n",
       "      <td>0</td>\n",
       "      <td>0</td>\n",
       "      <td>0</td>\n",
       "      <td>...</td>\n",
       "      <td>0</td>\n",
       "      <td>0</td>\n",
       "      <td>0</td>\n",
       "      <td>0</td>\n",
       "      <td>0</td>\n",
       "      <td>0</td>\n",
       "      <td>0</td>\n",
       "      <td>0</td>\n",
       "      <td>0</td>\n",
       "      <td>0</td>\n",
       "    </tr>\n",
       "  </tbody>\n",
       "</table>\n",
       "<p>5 rows × 21 columns</p>\n",
       "</div>"
      ],
      "text/plain": [
       "                                         description 1999 1998 1997 1996 1995  \\\n",
       "0                Afghanistan; Data source; All types    0    0    0    0    0   \n",
       "1                     Afghanistan; Data source; Beer    0    0    0    0    0   \n",
       "2                     Afghanistan; Data source; Wine    0    0    0    0    0   \n",
       "3                  Afghanistan; Data source; Spirits    0    0    0    0    0   \n",
       "4  Afghanistan; Data source; Other alcoholic beve...    0    0    0    0    0   \n",
       "\n",
       "  1994 1993 1992 1991 ...  1989 1988 1987 1986 1985 1984 1983 1982 1981 1980  \n",
       "0    0    0    0    0 ...     0    0    0    0    0    0    0    0    0    0  \n",
       "1    0    0    0    0 ...     0    0    0    0    0    0    0    0    0    0  \n",
       "2    0    0    0    0 ...     0    0    0    0    0    0    0    0    0    0  \n",
       "3    0    0    0    0 ...     0    0    0    0    0    0    0    0    0    0  \n",
       "4    0    0    0    0 ...     0    0    0    0    0    0    0    0    0    0  \n",
       "\n",
       "[5 rows x 21 columns]"
      ]
     },
     "execution_count": 194,
     "metadata": {},
     "output_type": "execute_result"
    }
   ],
   "source": [
    "df2 = pd.read_csv('data/drinks1980.csv')\n",
    "years2 = list(range(1999, 1979, -1))\n",
    "header2 = ['description']\n",
    "header2.extend(years2)\n",
    "df2.columns = header2\n",
    "df2.head()"
   ]
  },
  {
   "cell_type": "code",
   "execution_count": 195,
   "metadata": {
    "collapsed": false
   },
   "outputs": [
    {
     "data": {
      "text/html": [
       "<div>\n",
       "<table border=\"1\" class=\"dataframe\">\n",
       "  <thead>\n",
       "    <tr style=\"text-align: right;\">\n",
       "      <th></th>\n",
       "      <th>description</th>\n",
       "      <th>1979</th>\n",
       "      <th>1978</th>\n",
       "      <th>1977</th>\n",
       "      <th>1976</th>\n",
       "      <th>1975</th>\n",
       "      <th>1974</th>\n",
       "      <th>1973</th>\n",
       "      <th>1972</th>\n",
       "      <th>1971</th>\n",
       "      <th>...</th>\n",
       "      <th>1969</th>\n",
       "      <th>1968</th>\n",
       "      <th>1967</th>\n",
       "      <th>1966</th>\n",
       "      <th>1965</th>\n",
       "      <th>1964</th>\n",
       "      <th>1963</th>\n",
       "      <th>1962</th>\n",
       "      <th>1961</th>\n",
       "      <th>1960</th>\n",
       "    </tr>\n",
       "  </thead>\n",
       "  <tbody>\n",
       "    <tr>\n",
       "      <th>0</th>\n",
       "      <td>Afghanistan; Data source; All types</td>\n",
       "      <td>0</td>\n",
       "      <td>0</td>\n",
       "      <td>0</td>\n",
       "      <td>0</td>\n",
       "      <td>0</td>\n",
       "      <td>0</td>\n",
       "      <td>0</td>\n",
       "      <td>0</td>\n",
       "      <td>0</td>\n",
       "      <td>...</td>\n",
       "      <td>0</td>\n",
       "      <td>0</td>\n",
       "      <td>0</td>\n",
       "      <td>0</td>\n",
       "      <td>0</td>\n",
       "      <td>0</td>\n",
       "      <td>0</td>\n",
       "      <td>0</td>\n",
       "      <td>0</td>\n",
       "      <td>NaN</td>\n",
       "    </tr>\n",
       "    <tr>\n",
       "      <th>1</th>\n",
       "      <td>Afghanistan; Data source; Beer</td>\n",
       "      <td>0</td>\n",
       "      <td>0</td>\n",
       "      <td>0</td>\n",
       "      <td>0</td>\n",
       "      <td>0</td>\n",
       "      <td>0</td>\n",
       "      <td>0</td>\n",
       "      <td>0</td>\n",
       "      <td>0</td>\n",
       "      <td>...</td>\n",
       "      <td>0</td>\n",
       "      <td>0</td>\n",
       "      <td>0</td>\n",
       "      <td>0</td>\n",
       "      <td>0</td>\n",
       "      <td>0</td>\n",
       "      <td>0</td>\n",
       "      <td>0</td>\n",
       "      <td>0</td>\n",
       "      <td>NaN</td>\n",
       "    </tr>\n",
       "    <tr>\n",
       "      <th>2</th>\n",
       "      <td>Afghanistan; Data source; Wine</td>\n",
       "      <td>0</td>\n",
       "      <td>0</td>\n",
       "      <td>0</td>\n",
       "      <td>0</td>\n",
       "      <td>0</td>\n",
       "      <td>0</td>\n",
       "      <td>0</td>\n",
       "      <td>0</td>\n",
       "      <td>0</td>\n",
       "      <td>...</td>\n",
       "      <td>0</td>\n",
       "      <td>0</td>\n",
       "      <td>0</td>\n",
       "      <td>0</td>\n",
       "      <td>0</td>\n",
       "      <td>0</td>\n",
       "      <td>0</td>\n",
       "      <td>0</td>\n",
       "      <td>0</td>\n",
       "      <td>NaN</td>\n",
       "    </tr>\n",
       "    <tr>\n",
       "      <th>3</th>\n",
       "      <td>Afghanistan; Data source; Spirits</td>\n",
       "      <td>0</td>\n",
       "      <td>0</td>\n",
       "      <td>0</td>\n",
       "      <td>0</td>\n",
       "      <td>0</td>\n",
       "      <td>0</td>\n",
       "      <td>0</td>\n",
       "      <td>0</td>\n",
       "      <td>0</td>\n",
       "      <td>...</td>\n",
       "      <td>0</td>\n",
       "      <td>0</td>\n",
       "      <td>0</td>\n",
       "      <td>0</td>\n",
       "      <td>0</td>\n",
       "      <td>0</td>\n",
       "      <td>0</td>\n",
       "      <td>0</td>\n",
       "      <td>0</td>\n",
       "      <td>NaN</td>\n",
       "    </tr>\n",
       "    <tr>\n",
       "      <th>4</th>\n",
       "      <td>Afghanistan; Data source; Other alcoholic beve...</td>\n",
       "      <td>0</td>\n",
       "      <td>0</td>\n",
       "      <td>0</td>\n",
       "      <td>0</td>\n",
       "      <td>0</td>\n",
       "      <td>0</td>\n",
       "      <td>0</td>\n",
       "      <td>0</td>\n",
       "      <td>0</td>\n",
       "      <td>...</td>\n",
       "      <td>0</td>\n",
       "      <td>0</td>\n",
       "      <td>0</td>\n",
       "      <td>0</td>\n",
       "      <td>0</td>\n",
       "      <td>0</td>\n",
       "      <td>0</td>\n",
       "      <td>0</td>\n",
       "      <td>0</td>\n",
       "      <td>NaN</td>\n",
       "    </tr>\n",
       "  </tbody>\n",
       "</table>\n",
       "<p>5 rows × 21 columns</p>\n",
       "</div>"
      ],
      "text/plain": [
       "                                         description 1979 1978 1977 1976 1975  \\\n",
       "0                Afghanistan; Data source; All types    0    0    0    0    0   \n",
       "1                     Afghanistan; Data source; Beer    0    0    0    0    0   \n",
       "2                     Afghanistan; Data source; Wine    0    0    0    0    0   \n",
       "3                  Afghanistan; Data source; Spirits    0    0    0    0    0   \n",
       "4  Afghanistan; Data source; Other alcoholic beve...    0    0    0    0    0   \n",
       "\n",
       "  1974 1973 1972 1971 ...  1969 1968 1967 1966 1965 1964 1963 1962 1961 1960  \n",
       "0    0    0    0    0 ...     0    0    0    0    0    0    0    0    0  NaN  \n",
       "1    0    0    0    0 ...     0    0    0    0    0    0    0    0    0  NaN  \n",
       "2    0    0    0    0 ...     0    0    0    0    0    0    0    0    0  NaN  \n",
       "3    0    0    0    0 ...     0    0    0    0    0    0    0    0    0  NaN  \n",
       "4    0    0    0    0 ...     0    0    0    0    0    0    0    0    0  NaN  \n",
       "\n",
       "[5 rows x 21 columns]"
      ]
     },
     "execution_count": 195,
     "metadata": {},
     "output_type": "execute_result"
    }
   ],
   "source": [
    "df3 = pd.read_csv('data/drinks1960.csv')\n",
    "years3 = list(range(1979, 1959, -1))\n",
    "header3 = ['description']\n",
    "header3.extend(years3)\n",
    "df3.columns = header3\n",
    "df3.head()"
   ]
  },
  {
   "cell_type": "code",
   "execution_count": null,
   "metadata": {
    "collapsed": true
   },
   "outputs": [],
   "source": []
  },
  {
   "cell_type": "markdown",
   "metadata": {},
   "source": [
    "# 3. Refine the Data\n",
    " \n",
    "> \"Data is messy\"\n",
    "\n",
    "We will be performing the following operation on our Onion price to refine it\n",
    "- **Remove** e.g. remove redundant data from the data frame\n",
    "- **Derive** e.g. Country and Beverage from the description field\n",
    "- **Missing** e.g. Check for missing or incomplete data\n",
    "- **Merge** e.g. Take the three dataframes and make them one\n",
    "- **Filter** e.g. exclude based on location\n",
    "\n",
    "Other stuff you may need to do to refine are...\n",
    "- **Parse** e.g. extract date from year and month column\n",
    "- **Quality** e.g. Check for duplicates, accuracy, unusual data\n",
    "- **Convert** e.g. free text to coded value\n",
    "- **Calculate** e.g. percentages, proportion\n",
    "- **Aggregate** e.g. rollup by year, cluster by area\n",
    "- **Sample** e.g. extract a representative data\n",
    "- **Summary** e.g. show summary stats like mean\n"
   ]
  },
  {
   "cell_type": "markdown",
   "metadata": {},
   "source": [
    "## Principle: `melt` to convert from Wide format to Tall format\n",
    "We will need to convert the data frame from wide format to tall format (and vice versa). This is needed as we want to combine the three data frame and we can only do that once we have the data in a tall format\n",
    "\n",
    "![](img/wideformat.png)"
   ]
  },
  {
   "cell_type": "code",
   "execution_count": 196,
   "metadata": {
    "collapsed": false
   },
   "outputs": [
    {
     "data": {
      "text/html": [
       "<div>\n",
       "<table border=\"1\" class=\"dataframe\">\n",
       "  <thead>\n",
       "    <tr style=\"text-align: right;\">\n",
       "      <th></th>\n",
       "      <th>description</th>\n",
       "      <th>2015</th>\n",
       "      <th>2014</th>\n",
       "      <th>2013</th>\n",
       "      <th>2012</th>\n",
       "      <th>2011</th>\n",
       "      <th>2010</th>\n",
       "      <th>2009</th>\n",
       "      <th>2008</th>\n",
       "      <th>2007</th>\n",
       "      <th>2006</th>\n",
       "      <th>2005</th>\n",
       "      <th>2004</th>\n",
       "      <th>2003</th>\n",
       "      <th>2002</th>\n",
       "      <th>2001</th>\n",
       "      <th>2000</th>\n",
       "    </tr>\n",
       "  </thead>\n",
       "  <tbody>\n",
       "    <tr>\n",
       "      <th>0</th>\n",
       "      <td>Afghanistan; Data source; All types</td>\n",
       "      <td>NaN</td>\n",
       "      <td>NaN</td>\n",
       "      <td>0.01</td>\n",
       "      <td>0.01</td>\n",
       "      <td>0.01</td>\n",
       "      <td>0.01</td>\n",
       "      <td>0.01</td>\n",
       "      <td>0.03</td>\n",
       "      <td>0.02</td>\n",
       "      <td>0.03</td>\n",
       "      <td>0.02</td>\n",
       "      <td>0.02</td>\n",
       "      <td>0.01</td>\n",
       "      <td>0.01</td>\n",
       "      <td>0</td>\n",
       "      <td>0</td>\n",
       "    </tr>\n",
       "    <tr>\n",
       "      <th>1</th>\n",
       "      <td>Afghanistan; Data source; Beer</td>\n",
       "      <td>NaN</td>\n",
       "      <td>NaN</td>\n",
       "      <td>0.01</td>\n",
       "      <td>0.01</td>\n",
       "      <td>0.01</td>\n",
       "      <td>0.01</td>\n",
       "      <td>0.01</td>\n",
       "      <td>0.01</td>\n",
       "      <td>0.01</td>\n",
       "      <td>0.01</td>\n",
       "      <td>0.01</td>\n",
       "      <td>0.02</td>\n",
       "      <td>0</td>\n",
       "      <td>0</td>\n",
       "      <td>0</td>\n",
       "      <td>0</td>\n",
       "    </tr>\n",
       "    <tr>\n",
       "      <th>2</th>\n",
       "      <td>Afghanistan; Data source; Wine</td>\n",
       "      <td>NaN</td>\n",
       "      <td>NaN</td>\n",
       "      <td>0.00</td>\n",
       "      <td>0.00</td>\n",
       "      <td>0.00</td>\n",
       "      <td>0</td>\n",
       "      <td>0</td>\n",
       "      <td>0</td>\n",
       "      <td>0.01</td>\n",
       "      <td>0.01</td>\n",
       "      <td>0</td>\n",
       "      <td>0</td>\n",
       "      <td>0</td>\n",
       "      <td>0</td>\n",
       "      <td>0</td>\n",
       "      <td>0</td>\n",
       "    </tr>\n",
       "    <tr>\n",
       "      <th>3</th>\n",
       "      <td>Afghanistan; Data source; Spirits</td>\n",
       "      <td>NaN</td>\n",
       "      <td>NaN</td>\n",
       "      <td>0.00</td>\n",
       "      <td>0.00</td>\n",
       "      <td>0.00</td>\n",
       "      <td>0</td>\n",
       "      <td>0</td>\n",
       "      <td>0.02</td>\n",
       "      <td>0</td>\n",
       "      <td>0.01</td>\n",
       "      <td>0.01</td>\n",
       "      <td>0</td>\n",
       "      <td>0.01</td>\n",
       "      <td>0</td>\n",
       "      <td>0</td>\n",
       "      <td>0</td>\n",
       "    </tr>\n",
       "    <tr>\n",
       "      <th>4</th>\n",
       "      <td>Afghanistan; Data source; Other alcoholic beve...</td>\n",
       "      <td>NaN</td>\n",
       "      <td>NaN</td>\n",
       "      <td>0.00</td>\n",
       "      <td>0.00</td>\n",
       "      <td>0.00</td>\n",
       "      <td>0</td>\n",
       "      <td>0</td>\n",
       "      <td>0</td>\n",
       "      <td>0</td>\n",
       "      <td>0</td>\n",
       "      <td>0</td>\n",
       "      <td>0</td>\n",
       "      <td>0</td>\n",
       "      <td>0</td>\n",
       "      <td>0</td>\n",
       "      <td>0</td>\n",
       "    </tr>\n",
       "  </tbody>\n",
       "</table>\n",
       "</div>"
      ],
      "text/plain": [
       "                                         description  2015  2014  2013  2012  \\\n",
       "0                Afghanistan; Data source; All types   NaN   NaN  0.01  0.01   \n",
       "1                     Afghanistan; Data source; Beer   NaN   NaN  0.01  0.01   \n",
       "2                     Afghanistan; Data source; Wine   NaN   NaN  0.00  0.00   \n",
       "3                  Afghanistan; Data source; Spirits   NaN   NaN  0.00  0.00   \n",
       "4  Afghanistan; Data source; Other alcoholic beve...   NaN   NaN  0.00  0.00   \n",
       "\n",
       "   2011  2010  2009  2008  2007  2006  2005  2004  2003  2002 2001 2000  \n",
       "0  0.01  0.01  0.01  0.03  0.02  0.03  0.02  0.02  0.01  0.01    0    0  \n",
       "1  0.01  0.01  0.01  0.01  0.01  0.01  0.01  0.02     0     0    0    0  \n",
       "2  0.00     0     0     0  0.01  0.01     0     0     0     0    0    0  \n",
       "3  0.00     0     0  0.02     0  0.01  0.01     0  0.01     0    0    0  \n",
       "4  0.00     0     0     0     0     0     0     0     0     0    0    0  "
      ]
     },
     "execution_count": 196,
     "metadata": {},
     "output_type": "execute_result"
    }
   ],
   "source": [
    "df1.head()"
   ]
  },
  {
   "cell_type": "code",
   "execution_count": 197,
   "metadata": {
    "collapsed": false
   },
   "outputs": [],
   "source": [
    "df1 = pd.melt(df1, id_vars=['description'], var_name='year')"
   ]
  },
  {
   "cell_type": "code",
   "execution_count": 198,
   "metadata": {
    "collapsed": false
   },
   "outputs": [
    {
     "data": {
      "text/html": [
       "<div>\n",
       "<table border=\"1\" class=\"dataframe\">\n",
       "  <thead>\n",
       "    <tr style=\"text-align: right;\">\n",
       "      <th></th>\n",
       "      <th>description</th>\n",
       "      <th>year</th>\n",
       "      <th>value</th>\n",
       "    </tr>\n",
       "  </thead>\n",
       "  <tbody>\n",
       "    <tr>\n",
       "      <th>0</th>\n",
       "      <td>Afghanistan; Data source; All types</td>\n",
       "      <td>2015</td>\n",
       "      <td>NaN</td>\n",
       "    </tr>\n",
       "    <tr>\n",
       "      <th>1</th>\n",
       "      <td>Afghanistan; Data source; Beer</td>\n",
       "      <td>2015</td>\n",
       "      <td>NaN</td>\n",
       "    </tr>\n",
       "    <tr>\n",
       "      <th>2</th>\n",
       "      <td>Afghanistan; Data source; Wine</td>\n",
       "      <td>2015</td>\n",
       "      <td>NaN</td>\n",
       "    </tr>\n",
       "    <tr>\n",
       "      <th>3</th>\n",
       "      <td>Afghanistan; Data source; Spirits</td>\n",
       "      <td>2015</td>\n",
       "      <td>NaN</td>\n",
       "    </tr>\n",
       "    <tr>\n",
       "      <th>4</th>\n",
       "      <td>Afghanistan; Data source; Other alcoholic beve...</td>\n",
       "      <td>2015</td>\n",
       "      <td>NaN</td>\n",
       "    </tr>\n",
       "  </tbody>\n",
       "</table>\n",
       "</div>"
      ],
      "text/plain": [
       "                                         description  year value\n",
       "0                Afghanistan; Data source; All types  2015   NaN\n",
       "1                     Afghanistan; Data source; Beer  2015   NaN\n",
       "2                     Afghanistan; Data source; Wine  2015   NaN\n",
       "3                  Afghanistan; Data source; Spirits  2015   NaN\n",
       "4  Afghanistan; Data source; Other alcoholic beve...  2015   NaN"
      ]
     },
     "execution_count": 198,
     "metadata": {},
     "output_type": "execute_result"
    }
   ],
   "source": [
    "df1.head()"
   ]
  },
  {
   "cell_type": "code",
   "execution_count": 199,
   "metadata": {
    "collapsed": false
   },
   "outputs": [],
   "source": [
    "df2 = pd.melt(df2, id_vars=['description'], var_name='year')\n",
    "df3 = pd.melt(df3, id_vars=['description'], var_name='year')"
   ]
  },
  {
   "cell_type": "markdown",
   "metadata": {},
   "source": [
    "## Principle: `append` one dataframe to another"
   ]
  },
  {
   "cell_type": "code",
   "execution_count": 200,
   "metadata": {
    "collapsed": false
   },
   "outputs": [
    {
     "data": {
      "text/plain": [
       "(15744, 3)"
      ]
     },
     "execution_count": 200,
     "metadata": {},
     "output_type": "execute_result"
    }
   ],
   "source": [
    "df1.shape"
   ]
  },
  {
   "cell_type": "code",
   "execution_count": 201,
   "metadata": {
    "collapsed": false
   },
   "outputs": [
    {
     "data": {
      "text/plain": [
       "(18900, 3)"
      ]
     },
     "execution_count": 201,
     "metadata": {},
     "output_type": "execute_result"
    }
   ],
   "source": [
    "df2.shape"
   ]
  },
  {
   "cell_type": "code",
   "execution_count": 202,
   "metadata": {
    "collapsed": false
   },
   "outputs": [],
   "source": [
    "df = df1.append(df2)"
   ]
  },
  {
   "cell_type": "code",
   "execution_count": 203,
   "metadata": {
    "collapsed": false
   },
   "outputs": [
    {
     "data": {
      "text/plain": [
       "(34644, 3)"
      ]
     },
     "execution_count": 203,
     "metadata": {},
     "output_type": "execute_result"
    }
   ],
   "source": [
    "df.shape"
   ]
  },
  {
   "cell_type": "code",
   "execution_count": 204,
   "metadata": {
    "collapsed": true
   },
   "outputs": [],
   "source": [
    "df = df.append(df3)"
   ]
  },
  {
   "cell_type": "code",
   "execution_count": 205,
   "metadata": {
    "collapsed": false
   },
   "outputs": [
    {
     "data": {
      "text/plain": [
       "(48244, 3)"
      ]
     },
     "execution_count": 205,
     "metadata": {},
     "output_type": "execute_result"
    }
   ],
   "source": [
    "df.shape"
   ]
  },
  {
   "cell_type": "markdown",
   "metadata": {},
   "source": [
    "## Principle: `str` to extract text from a strings\n",
    "\n",
    "String manipulation is very common and we often need to extract a substring from a long string. In this case, we want to get the country and type of beverage from the description"
   ]
  },
  {
   "cell_type": "code",
   "execution_count": 206,
   "metadata": {
    "collapsed": false
   },
   "outputs": [
    {
     "data": {
      "text/html": [
       "<div>\n",
       "<table border=\"1\" class=\"dataframe\">\n",
       "  <thead>\n",
       "    <tr style=\"text-align: right;\">\n",
       "      <th></th>\n",
       "      <th>description</th>\n",
       "      <th>year</th>\n",
       "      <th>value</th>\n",
       "    </tr>\n",
       "  </thead>\n",
       "  <tbody>\n",
       "    <tr>\n",
       "      <th>0</th>\n",
       "      <td>Afghanistan; Data source; All types</td>\n",
       "      <td>2015</td>\n",
       "      <td>NaN</td>\n",
       "    </tr>\n",
       "    <tr>\n",
       "      <th>1</th>\n",
       "      <td>Afghanistan; Data source; Beer</td>\n",
       "      <td>2015</td>\n",
       "      <td>NaN</td>\n",
       "    </tr>\n",
       "    <tr>\n",
       "      <th>2</th>\n",
       "      <td>Afghanistan; Data source; Wine</td>\n",
       "      <td>2015</td>\n",
       "      <td>NaN</td>\n",
       "    </tr>\n",
       "    <tr>\n",
       "      <th>3</th>\n",
       "      <td>Afghanistan; Data source; Spirits</td>\n",
       "      <td>2015</td>\n",
       "      <td>NaN</td>\n",
       "    </tr>\n",
       "    <tr>\n",
       "      <th>4</th>\n",
       "      <td>Afghanistan; Data source; Other alcoholic beve...</td>\n",
       "      <td>2015</td>\n",
       "      <td>NaN</td>\n",
       "    </tr>\n",
       "  </tbody>\n",
       "</table>\n",
       "</div>"
      ],
      "text/plain": [
       "                                         description  year value\n",
       "0                Afghanistan; Data source; All types  2015   NaN\n",
       "1                     Afghanistan; Data source; Beer  2015   NaN\n",
       "2                     Afghanistan; Data source; Wine  2015   NaN\n",
       "3                  Afghanistan; Data source; Spirits  2015   NaN\n",
       "4  Afghanistan; Data source; Other alcoholic beve...  2015   NaN"
      ]
     },
     "execution_count": 206,
     "metadata": {},
     "output_type": "execute_result"
    }
   ],
   "source": [
    "df.head()"
   ]
  },
  {
   "cell_type": "code",
   "execution_count": 207,
   "metadata": {
    "collapsed": false
   },
   "outputs": [],
   "source": [
    "df['country'] = df.description.str.split(';').str[0]"
   ]
  },
  {
   "cell_type": "code",
   "execution_count": 208,
   "metadata": {
    "collapsed": false
   },
   "outputs": [
    {
     "data": {
      "text/html": [
       "<div>\n",
       "<table border=\"1\" class=\"dataframe\">\n",
       "  <thead>\n",
       "    <tr style=\"text-align: right;\">\n",
       "      <th></th>\n",
       "      <th>description</th>\n",
       "      <th>year</th>\n",
       "      <th>value</th>\n",
       "      <th>country</th>\n",
       "    </tr>\n",
       "  </thead>\n",
       "  <tbody>\n",
       "    <tr>\n",
       "      <th>0</th>\n",
       "      <td>Afghanistan; Data source; All types</td>\n",
       "      <td>2015</td>\n",
       "      <td>NaN</td>\n",
       "      <td>Afghanistan</td>\n",
       "    </tr>\n",
       "    <tr>\n",
       "      <th>1</th>\n",
       "      <td>Afghanistan; Data source; Beer</td>\n",
       "      <td>2015</td>\n",
       "      <td>NaN</td>\n",
       "      <td>Afghanistan</td>\n",
       "    </tr>\n",
       "    <tr>\n",
       "      <th>2</th>\n",
       "      <td>Afghanistan; Data source; Wine</td>\n",
       "      <td>2015</td>\n",
       "      <td>NaN</td>\n",
       "      <td>Afghanistan</td>\n",
       "    </tr>\n",
       "    <tr>\n",
       "      <th>3</th>\n",
       "      <td>Afghanistan; Data source; Spirits</td>\n",
       "      <td>2015</td>\n",
       "      <td>NaN</td>\n",
       "      <td>Afghanistan</td>\n",
       "    </tr>\n",
       "    <tr>\n",
       "      <th>4</th>\n",
       "      <td>Afghanistan; Data source; Other alcoholic beve...</td>\n",
       "      <td>2015</td>\n",
       "      <td>NaN</td>\n",
       "      <td>Afghanistan</td>\n",
       "    </tr>\n",
       "  </tbody>\n",
       "</table>\n",
       "</div>"
      ],
      "text/plain": [
       "                                         description  year value      country\n",
       "0                Afghanistan; Data source; All types  2015   NaN  Afghanistan\n",
       "1                     Afghanistan; Data source; Beer  2015   NaN  Afghanistan\n",
       "2                     Afghanistan; Data source; Wine  2015   NaN  Afghanistan\n",
       "3                  Afghanistan; Data source; Spirits  2015   NaN  Afghanistan\n",
       "4  Afghanistan; Data source; Other alcoholic beve...  2015   NaN  Afghanistan"
      ]
     },
     "execution_count": 208,
     "metadata": {},
     "output_type": "execute_result"
    }
   ],
   "source": [
    "df.head()"
   ]
  },
  {
   "cell_type": "code",
   "execution_count": 209,
   "metadata": {
    "collapsed": true
   },
   "outputs": [],
   "source": [
    "df['beverage'] = df.description.str.split(\";\").str[-1]"
   ]
  },
  {
   "cell_type": "code",
   "execution_count": 210,
   "metadata": {
    "collapsed": false
   },
   "outputs": [
    {
     "data": {
      "text/html": [
       "<div>\n",
       "<table border=\"1\" class=\"dataframe\">\n",
       "  <thead>\n",
       "    <tr style=\"text-align: right;\">\n",
       "      <th></th>\n",
       "      <th>description</th>\n",
       "      <th>year</th>\n",
       "      <th>value</th>\n",
       "      <th>country</th>\n",
       "      <th>beverage</th>\n",
       "    </tr>\n",
       "  </thead>\n",
       "  <tbody>\n",
       "    <tr>\n",
       "      <th>13595</th>\n",
       "      <td>Zimbabwe; Data source; All types</td>\n",
       "      <td>1960</td>\n",
       "      <td>NaN</td>\n",
       "      <td>Zimbabwe</td>\n",
       "      <td>All types</td>\n",
       "    </tr>\n",
       "    <tr>\n",
       "      <th>13596</th>\n",
       "      <td>Zimbabwe; Data source; Beer</td>\n",
       "      <td>1960</td>\n",
       "      <td>NaN</td>\n",
       "      <td>Zimbabwe</td>\n",
       "      <td>Beer</td>\n",
       "    </tr>\n",
       "    <tr>\n",
       "      <th>13597</th>\n",
       "      <td>Zimbabwe; Data source; Wine</td>\n",
       "      <td>1960</td>\n",
       "      <td>NaN</td>\n",
       "      <td>Zimbabwe</td>\n",
       "      <td>Wine</td>\n",
       "    </tr>\n",
       "    <tr>\n",
       "      <th>13598</th>\n",
       "      <td>Zimbabwe; Data source; Spirits</td>\n",
       "      <td>1960</td>\n",
       "      <td>NaN</td>\n",
       "      <td>Zimbabwe</td>\n",
       "      <td>Spirits</td>\n",
       "    </tr>\n",
       "    <tr>\n",
       "      <th>13599</th>\n",
       "      <td>Zimbabwe; Data source; Other alcoholic beverages</td>\n",
       "      <td>1960</td>\n",
       "      <td>NaN</td>\n",
       "      <td>Zimbabwe</td>\n",
       "      <td>Other alcoholic beverages</td>\n",
       "    </tr>\n",
       "  </tbody>\n",
       "</table>\n",
       "</div>"
      ],
      "text/plain": [
       "                                            description  year value   country  \\\n",
       "13595                  Zimbabwe; Data source; All types  1960   NaN  Zimbabwe   \n",
       "13596                       Zimbabwe; Data source; Beer  1960   NaN  Zimbabwe   \n",
       "13597                       Zimbabwe; Data source; Wine  1960   NaN  Zimbabwe   \n",
       "13598                    Zimbabwe; Data source; Spirits  1960   NaN  Zimbabwe   \n",
       "13599  Zimbabwe; Data source; Other alcoholic beverages  1960   NaN  Zimbabwe   \n",
       "\n",
       "                         beverage  \n",
       "13595                   All types  \n",
       "13596                        Beer  \n",
       "13597                        Wine  \n",
       "13598                     Spirits  \n",
       "13599   Other alcoholic beverages  "
      ]
     },
     "execution_count": 210,
     "metadata": {},
     "output_type": "execute_result"
    }
   ],
   "source": [
    "df.tail()"
   ]
  },
  {
   "cell_type": "markdown",
   "metadata": {},
   "source": [
    "We can now drop the description column from our dataframe"
   ]
  },
  {
   "cell_type": "code",
   "execution_count": 211,
   "metadata": {
    "collapsed": false
   },
   "outputs": [],
   "source": [
    "df.drop('description', axis = 1, inplace= True)"
   ]
  },
  {
   "cell_type": "code",
   "execution_count": 212,
   "metadata": {
    "collapsed": false
   },
   "outputs": [
    {
     "data": {
      "text/html": [
       "<div>\n",
       "<table border=\"1\" class=\"dataframe\">\n",
       "  <thead>\n",
       "    <tr style=\"text-align: right;\">\n",
       "      <th></th>\n",
       "      <th>year</th>\n",
       "      <th>value</th>\n",
       "      <th>country</th>\n",
       "      <th>beverage</th>\n",
       "    </tr>\n",
       "  </thead>\n",
       "  <tbody>\n",
       "    <tr>\n",
       "      <th>0</th>\n",
       "      <td>2015</td>\n",
       "      <td>NaN</td>\n",
       "      <td>Afghanistan</td>\n",
       "      <td>All types</td>\n",
       "    </tr>\n",
       "    <tr>\n",
       "      <th>1</th>\n",
       "      <td>2015</td>\n",
       "      <td>NaN</td>\n",
       "      <td>Afghanistan</td>\n",
       "      <td>Beer</td>\n",
       "    </tr>\n",
       "    <tr>\n",
       "      <th>2</th>\n",
       "      <td>2015</td>\n",
       "      <td>NaN</td>\n",
       "      <td>Afghanistan</td>\n",
       "      <td>Wine</td>\n",
       "    </tr>\n",
       "    <tr>\n",
       "      <th>3</th>\n",
       "      <td>2015</td>\n",
       "      <td>NaN</td>\n",
       "      <td>Afghanistan</td>\n",
       "      <td>Spirits</td>\n",
       "    </tr>\n",
       "    <tr>\n",
       "      <th>4</th>\n",
       "      <td>2015</td>\n",
       "      <td>NaN</td>\n",
       "      <td>Afghanistan</td>\n",
       "      <td>Other alcoholic beverages</td>\n",
       "    </tr>\n",
       "  </tbody>\n",
       "</table>\n",
       "</div>"
      ],
      "text/plain": [
       "   year value      country                    beverage\n",
       "0  2015   NaN  Afghanistan                   All types\n",
       "1  2015   NaN  Afghanistan                        Beer\n",
       "2  2015   NaN  Afghanistan                        Wine\n",
       "3  2015   NaN  Afghanistan                     Spirits\n",
       "4  2015   NaN  Afghanistan   Other alcoholic beverages"
      ]
     },
     "execution_count": 212,
     "metadata": {},
     "output_type": "execute_result"
    }
   ],
   "source": [
    "df.head()"
   ]
  },
  {
   "cell_type": "markdown",
   "metadata": {},
   "source": [
    "## Principle: Dealing with Missing Values\n",
    "\n",
    "By “missing” it simply mean null or “not present for whatever reason”. Many data sets have missing data, either because it exists and was not collected or it never existed. Pandas default way for treating missing value is to mark it as  `NaN`"
   ]
  },
  {
   "cell_type": "code",
   "execution_count": 213,
   "metadata": {
    "collapsed": false
   },
   "outputs": [
    {
     "data": {
      "text/plain": [
       "year        object\n",
       "value       object\n",
       "country     object\n",
       "beverage    object\n",
       "dtype: object"
      ]
     },
     "execution_count": 213,
     "metadata": {},
     "output_type": "execute_result"
    }
   ],
   "source": [
    "df.dtypes"
   ]
  },
  {
   "cell_type": "code",
   "execution_count": 214,
   "metadata": {
    "collapsed": false
   },
   "outputs": [
    {
     "data": {
      "text/plain": [
       "array([2015, 2014, 2013, 2012, 2011, 2010, 2009, 2008, 2007, 2006, 2005,\n",
       "       2004, 2003, 2002, 2001, 2000, 1999, 1998, 1997, 1996, 1995, 1994,\n",
       "       1993, 1992, 1991, 1990, 1989, 1988, 1987, 1986, 1985, 1984, 1983,\n",
       "       1982, 1981, 1980, 1979, 1978, 1977, 1976, 1975, 1974, 1973, 1972,\n",
       "       1971, 1970, 1969, 1968, 1967, 1966, 1965, 1964, 1963, 1962, 1961,\n",
       "       1960], dtype=object)"
      ]
     },
     "execution_count": 214,
     "metadata": {},
     "output_type": "execute_result"
    }
   ],
   "source": [
    "df.year.unique()"
   ]
  },
  {
   "cell_type": "code",
   "execution_count": 215,
   "metadata": {
    "collapsed": true
   },
   "outputs": [],
   "source": [
    "df.year = pd.to_numeric(df.year)"
   ]
  },
  {
   "cell_type": "code",
   "execution_count": 216,
   "metadata": {
    "collapsed": false
   },
   "outputs": [
    {
     "data": {
      "text/plain": [
       "year         int64\n",
       "value       object\n",
       "country     object\n",
       "beverage    object\n",
       "dtype: object"
      ]
     },
     "execution_count": 216,
     "metadata": {},
     "output_type": "execute_result"
    }
   ],
   "source": [
    "df.dtypes"
   ]
  },
  {
   "cell_type": "code",
   "execution_count": 217,
   "metadata": {
    "collapsed": false
   },
   "outputs": [
    {
     "data": {
      "text/html": [
       "<div>\n",
       "<table border=\"1\" class=\"dataframe\">\n",
       "  <thead>\n",
       "    <tr style=\"text-align: right;\">\n",
       "      <th></th>\n",
       "      <th>year</th>\n",
       "      <th>value</th>\n",
       "      <th>country</th>\n",
       "      <th>beverage</th>\n",
       "    </tr>\n",
       "  </thead>\n",
       "  <tbody>\n",
       "    <tr>\n",
       "      <th>0</th>\n",
       "      <td>2015</td>\n",
       "      <td>NaN</td>\n",
       "      <td>Afghanistan</td>\n",
       "      <td>All types</td>\n",
       "    </tr>\n",
       "    <tr>\n",
       "      <th>1</th>\n",
       "      <td>2015</td>\n",
       "      <td>NaN</td>\n",
       "      <td>Afghanistan</td>\n",
       "      <td>Beer</td>\n",
       "    </tr>\n",
       "    <tr>\n",
       "      <th>2</th>\n",
       "      <td>2015</td>\n",
       "      <td>NaN</td>\n",
       "      <td>Afghanistan</td>\n",
       "      <td>Wine</td>\n",
       "    </tr>\n",
       "    <tr>\n",
       "      <th>3</th>\n",
       "      <td>2015</td>\n",
       "      <td>NaN</td>\n",
       "      <td>Afghanistan</td>\n",
       "      <td>Spirits</td>\n",
       "    </tr>\n",
       "    <tr>\n",
       "      <th>4</th>\n",
       "      <td>2015</td>\n",
       "      <td>NaN</td>\n",
       "      <td>Afghanistan</td>\n",
       "      <td>Other alcoholic beverages</td>\n",
       "    </tr>\n",
       "  </tbody>\n",
       "</table>\n",
       "</div>"
      ],
      "text/plain": [
       "   year value      country                    beverage\n",
       "0  2015   NaN  Afghanistan                   All types\n",
       "1  2015   NaN  Afghanistan                        Beer\n",
       "2  2015   NaN  Afghanistan                        Wine\n",
       "3  2015   NaN  Afghanistan                     Spirits\n",
       "4  2015   NaN  Afghanistan   Other alcoholic beverages"
      ]
     },
     "execution_count": 217,
     "metadata": {},
     "output_type": "execute_result"
    }
   ],
   "source": [
    "df.head()"
   ]
  },
  {
   "cell_type": "markdown",
   "metadata": {},
   "source": [
    "Lets check in the value whether we have numeric or not"
   ]
  },
  {
   "cell_type": "code",
   "execution_count": 218,
   "metadata": {
    "collapsed": false
   },
   "outputs": [
    {
     "data": {
      "text/plain": [
       "array([nan, 8.7, 3.29, ..., '20.56', '19.24', '17.24'], dtype=object)"
      ]
     },
     "execution_count": 218,
     "metadata": {},
     "output_type": "execute_result"
    }
   ],
   "source": [
    "df.value.unique() "
   ]
  },
  {
   "cell_type": "code",
   "execution_count": 219,
   "metadata": {
    "collapsed": false
   },
   "outputs": [
    {
     "data": {
      "text/plain": [
       "(34011, 4)"
      ]
     },
     "execution_count": 219,
     "metadata": {},
     "output_type": "execute_result"
    }
   ],
   "source": [
    "df[df.value.str.isnumeric() == False].shape"
   ]
  },
  {
   "cell_type": "markdown",
   "metadata": {},
   "source": [
    "We will use `pd.to_numeric` which will coerce to NaN everything that cannot be converted to a numeric value, so strings that represent numeric values will not be removed. For example '1.25' will be recognized as the numeric value 1.25"
   ]
  },
  {
   "cell_type": "code",
   "execution_count": 220,
   "metadata": {
    "collapsed": false
   },
   "outputs": [],
   "source": [
    "df.value = pd.to_numeric(df.value, errors='coerce')"
   ]
  },
  {
   "cell_type": "code",
   "execution_count": 221,
   "metadata": {
    "collapsed": false
   },
   "outputs": [
    {
     "data": {
      "text/plain": [
       "array([   nan,   8.7 ,   3.29, ...,  20.56,  19.24,  17.24])"
      ]
     },
     "execution_count": 221,
     "metadata": {},
     "output_type": "execute_result"
    }
   ],
   "source": [
    "df.value.unique()"
   ]
  },
  {
   "cell_type": "code",
   "execution_count": 222,
   "metadata": {
    "collapsed": false
   },
   "outputs": [
    {
     "data": {
      "text/plain": [
       "year          int64\n",
       "value       float64\n",
       "country      object\n",
       "beverage     object\n",
       "dtype: object"
      ]
     },
     "execution_count": 222,
     "metadata": {},
     "output_type": "execute_result"
    }
   ],
   "source": [
    "df.dtypes"
   ]
  },
  {
   "cell_type": "code",
   "execution_count": 223,
   "metadata": {
    "collapsed": false
   },
   "outputs": [
    {
     "data": {
      "text/plain": [
       "array(['Afghanistan', 'Albania', 'Algeria', 'Andorra', 'Angola',\n",
       "       'Antigua and Barbuda', 'Argentina', 'Armenia', 'Australia',\n",
       "       'Austria', 'Azerbaijan', 'Bahamas', 'Bahrain', 'Bangladesh',\n",
       "       'Barbados', 'Belarus', 'Belgium', 'Belize', 'Benin', 'Bhutan',\n",
       "       'Bolivia (Plurinational State of)', 'Bosnia and Herzegovina',\n",
       "       'Botswana', 'Brazil', 'Brunei Darussalam', 'Bulgaria',\n",
       "       'Burkina Faso', 'Burundi', \"Cote d'Ivoire\", 'Cabo Verde',\n",
       "       'Cambodia', 'Cameroon', 'Canada', 'Central African Republic',\n",
       "       'Chad', 'Chile', 'China', 'Colombia', 'Comoros', 'Congo',\n",
       "       'Cook Islands', 'Costa Rica', 'Croatia', 'Cuba', 'Cyprus',\n",
       "       'Czech Republic', \"Democratic People's Republic of Korea\",\n",
       "       'Democratic Republic of the Congo', 'Denmark', 'Djibouti',\n",
       "       'Dominica', 'Dominican Republic', 'Ecuador', 'Egypt', 'El Salvador',\n",
       "       'Equatorial Guinea', 'Eritrea', 'Estonia', 'Ethiopia', 'Fiji',\n",
       "       'Finland', 'France', 'Gabon', 'Gambia', 'Georgia', 'Germany',\n",
       "       'Ghana', 'Greece', 'Grenada', 'Guatemala', 'Guinea',\n",
       "       'Guinea-Bissau', 'Guyana', 'Haiti', 'Honduras', 'Hungary',\n",
       "       'Iceland', 'India', 'Indonesia', 'Iran (Islamic Republic of)',\n",
       "       'Iraq', 'Ireland', 'Israel', 'Italy', 'Jamaica', 'Japan', 'Jordan',\n",
       "       'Kazakhstan', 'Kenya', 'Kiribati', 'Kuwait', 'Kyrgyzstan',\n",
       "       \"Lao People's Democratic Republic\", 'Latvia', 'Lebanon', 'Lesotho',\n",
       "       'Liberia', 'Libya', 'Lithuania', 'Luxembourg', 'Madagascar',\n",
       "       'Malawi', 'Malaysia', 'Maldives', 'Mali', 'Malta',\n",
       "       'Marshall Islands', 'Mauritania', 'Mauritius', 'Mexico',\n",
       "       'Micronesia (Federated States of)', 'Monaco', 'Mongolia',\n",
       "       'Montenegro', 'Morocco', 'Mozambique', 'Myanmar', 'Namibia',\n",
       "       'Nauru', 'Nepal', 'Netherlands', 'New Zealand', 'Nicaragua',\n",
       "       'Niger', 'Nigeria', 'Niue', 'Norway', 'Oman', 'Pakistan', 'Palau',\n",
       "       'Panama', 'Papua New Guinea', 'Paraguay', 'Peru', 'Philippines',\n",
       "       'Poland', 'Portugal', 'Qatar', 'Republic of Korea',\n",
       "       'Republic of Moldova', 'Romania', 'Russian Federation', 'Rwanda',\n",
       "       'Saint Kitts and Nevis', 'Saint Lucia',\n",
       "       'Saint Vincent and the Grenadines', 'Samoa', 'San Marino',\n",
       "       'Sao Tome and Principe', 'Saudi Arabia', 'Senegal', 'Serbia',\n",
       "       'Seychelles', 'Sierra Leone', 'Singapore', 'Slovakia', 'Slovenia',\n",
       "       'Solomon Islands', 'Somalia', 'South Africa', 'Spain', 'Sri Lanka',\n",
       "       'Sudan', 'Suriname', 'Swaziland', 'Sweden', 'Switzerland',\n",
       "       'Syrian Arab Republic', 'Tajikistan', 'Thailand',\n",
       "       'The former Yugoslav republic of Macedonia', 'Timor-Leste', 'Togo',\n",
       "       'Tonga', 'Trinidad and Tobago', 'Tunisia', 'Turkey', 'Turkmenistan',\n",
       "       'Tuvalu', 'Uganda', 'Ukraine', 'United Arab Emirates',\n",
       "       'United Kingdom of Great Britain and Northern Ireland',\n",
       "       'United Republic of Tanzania', 'United States of America',\n",
       "       'Uruguay', 'Uzbekistan', 'Vanuatu',\n",
       "       'Venezuela (Bolivarian Republic of)', 'Viet Nam', 'Yemen', 'Zambia',\n",
       "       'Zimbabwe'], dtype=object)"
      ]
     },
     "execution_count": 223,
     "metadata": {},
     "output_type": "execute_result"
    }
   ],
   "source": [
    "df.country.unique()"
   ]
  },
  {
   "cell_type": "code",
   "execution_count": 224,
   "metadata": {
    "collapsed": false
   },
   "outputs": [
    {
     "data": {
      "text/plain": [
       "array([' All types', ' Beer', ' Wine', ' Spirits',\n",
       "       ' Other alcoholic beverages'], dtype=object)"
      ]
     },
     "execution_count": 224,
     "metadata": {},
     "output_type": "execute_result"
    }
   ],
   "source": [
    "df.beverage.unique()"
   ]
  },
  {
   "cell_type": "code",
   "execution_count": 225,
   "metadata": {
    "collapsed": true
   },
   "outputs": [],
   "source": [
    "# Convert from an np array to a list\n",
    "beverage_old = df.beverage.unique().tolist()"
   ]
  },
  {
   "cell_type": "code",
   "execution_count": 226,
   "metadata": {
    "collapsed": false
   },
   "outputs": [
    {
     "data": {
      "text/plain": [
       "[' All types', ' Beer', ' Wine', ' Spirits', ' Other alcoholic beverages']"
      ]
     },
     "execution_count": 226,
     "metadata": {},
     "output_type": "execute_result"
    }
   ],
   "source": [
    "beverage_old"
   ]
  },
  {
   "cell_type": "code",
   "execution_count": 227,
   "metadata": {
    "collapsed": true
   },
   "outputs": [],
   "source": [
    "# Create a new list with white space removed and shorter names\n",
    "beverage_new = ['all', 'beer', 'wine', 'spirits', 'others']"
   ]
  },
  {
   "cell_type": "code",
   "execution_count": 228,
   "metadata": {
    "collapsed": false
   },
   "outputs": [
    {
     "data": {
      "text/plain": [
       "['all', 'beer', 'wine', 'spirits', 'others']"
      ]
     },
     "execution_count": 228,
     "metadata": {},
     "output_type": "execute_result"
    }
   ],
   "source": [
    "beverage_new"
   ]
  },
  {
   "cell_type": "code",
   "execution_count": 229,
   "metadata": {
    "collapsed": true
   },
   "outputs": [],
   "source": [
    "df.beverage = df.beverage.replace(beverage_old, beverage_new)"
   ]
  },
  {
   "cell_type": "markdown",
   "metadata": {},
   "source": [
    "## Principle: mutate to create new variables \n",
    "\n",
    "It is hard to think of alcohol in terms of 'litres of pure alcohol content'. It is easy to understand in terms of number of typical serving of drinks.\n",
    "\n",
    "http://rethinkingdrinking.niaaa.nih.gov/How-much-is-too-much/what-counts-as-a-drink/whats-A-Standard-drink.aspx\n",
    "\n",
    "![](img/serving.png)\n",
    "\n",
    "For one standard serving - \n",
    "- One glasses of wine: 12% alcohol in 5fl oz of standard serving of wine glass (0.6 fl oz)\n",
    "- One can of beer: 5% alcohol in 12fl oz of a standard serving of beer can (0.6 fl oz)\n",
    "- One shot of spirits: 40% alcohol in 1.5fl oz of standard shot of spirit (0.6 fl oz)\n",
    "\n",
    "\n",
    "1 US fluid ounce (fl oz) = 0.0295735 litres (l) ~ 30ml\n",
    "\n",
    "So for:\n",
    "- 1 Standard serving of Wine = `12% * 5 * 0.03 `= `0.018` litres of pure alcohol\n",
    "- 1 Standard serving of Beer = `5% * 12 * 0.03 `= `0.018` litres of pure alcohol\n",
    "- 1 Standard serving of Spirit = `40% * 1.5 * 0.03` = `0.018` litres of pure alcohol\n"
   ]
  },
  {
   "cell_type": "code",
   "execution_count": 230,
   "metadata": {
    "collapsed": false
   },
   "outputs": [
    {
     "data": {
      "text/plain": [
       "year          int64\n",
       "value       float64\n",
       "country      object\n",
       "beverage     object\n",
       "dtype: object"
      ]
     },
     "execution_count": 230,
     "metadata": {},
     "output_type": "execute_result"
    }
   ],
   "source": [
    "df.dtypes"
   ]
  },
  {
   "cell_type": "code",
   "execution_count": 231,
   "metadata": {
    "collapsed": false
   },
   "outputs": [],
   "source": [
    "df['serving'] = round(df['value']/0.018, 0)"
   ]
  },
  {
   "cell_type": "code",
   "execution_count": 232,
   "metadata": {
    "collapsed": false
   },
   "outputs": [
    {
     "data": {
      "text/html": [
       "<div>\n",
       "<table border=\"1\" class=\"dataframe\">\n",
       "  <thead>\n",
       "    <tr style=\"text-align: right;\">\n",
       "      <th></th>\n",
       "      <th>year</th>\n",
       "      <th>value</th>\n",
       "      <th>country</th>\n",
       "      <th>beverage</th>\n",
       "      <th>serving</th>\n",
       "    </tr>\n",
       "  </thead>\n",
       "  <tbody>\n",
       "    <tr>\n",
       "      <th>0</th>\n",
       "      <td>2015</td>\n",
       "      <td>NaN</td>\n",
       "      <td>Afghanistan</td>\n",
       "      <td>all</td>\n",
       "      <td>NaN</td>\n",
       "    </tr>\n",
       "    <tr>\n",
       "      <th>1</th>\n",
       "      <td>2015</td>\n",
       "      <td>NaN</td>\n",
       "      <td>Afghanistan</td>\n",
       "      <td>beer</td>\n",
       "      <td>NaN</td>\n",
       "    </tr>\n",
       "    <tr>\n",
       "      <th>2</th>\n",
       "      <td>2015</td>\n",
       "      <td>NaN</td>\n",
       "      <td>Afghanistan</td>\n",
       "      <td>wine</td>\n",
       "      <td>NaN</td>\n",
       "    </tr>\n",
       "    <tr>\n",
       "      <th>3</th>\n",
       "      <td>2015</td>\n",
       "      <td>NaN</td>\n",
       "      <td>Afghanistan</td>\n",
       "      <td>spirits</td>\n",
       "      <td>NaN</td>\n",
       "    </tr>\n",
       "    <tr>\n",
       "      <th>4</th>\n",
       "      <td>2015</td>\n",
       "      <td>NaN</td>\n",
       "      <td>Afghanistan</td>\n",
       "      <td>others</td>\n",
       "      <td>NaN</td>\n",
       "    </tr>\n",
       "  </tbody>\n",
       "</table>\n",
       "</div>"
      ],
      "text/plain": [
       "   year  value      country beverage  serving\n",
       "0  2015    NaN  Afghanistan      all      NaN\n",
       "1  2015    NaN  Afghanistan     beer      NaN\n",
       "2  2015    NaN  Afghanistan     wine      NaN\n",
       "3  2015    NaN  Afghanistan  spirits      NaN\n",
       "4  2015    NaN  Afghanistan   others      NaN"
      ]
     },
     "execution_count": 232,
     "metadata": {},
     "output_type": "execute_result"
    }
   ],
   "source": [
    "df.head()"
   ]
  },
  {
   "cell_type": "markdown",
   "metadata": {},
   "source": [
    "## Principle: filter for rows in a dataframe\n",
    "\n",
    "- To select the rows from the dataframe\n",
    "\n",
    "![](img/subsetrows.png)"
   ]
  },
  {
   "cell_type": "code",
   "execution_count": 233,
   "metadata": {
    "collapsed": true
   },
   "outputs": [],
   "source": [
    "df2010 = df[df.year == 2010]"
   ]
  },
  {
   "cell_type": "code",
   "execution_count": 234,
   "metadata": {
    "collapsed": false
   },
   "outputs": [
    {
     "data": {
      "text/html": [
       "<div>\n",
       "<table border=\"1\" class=\"dataframe\">\n",
       "  <thead>\n",
       "    <tr style=\"text-align: right;\">\n",
       "      <th></th>\n",
       "      <th>year</th>\n",
       "      <th>value</th>\n",
       "      <th>country</th>\n",
       "      <th>beverage</th>\n",
       "      <th>serving</th>\n",
       "    </tr>\n",
       "  </thead>\n",
       "  <tbody>\n",
       "    <tr>\n",
       "      <th>4920</th>\n",
       "      <td>2010</td>\n",
       "      <td>0.01</td>\n",
       "      <td>Afghanistan</td>\n",
       "      <td>all</td>\n",
       "      <td>1.0</td>\n",
       "    </tr>\n",
       "    <tr>\n",
       "      <th>4921</th>\n",
       "      <td>2010</td>\n",
       "      <td>0.01</td>\n",
       "      <td>Afghanistan</td>\n",
       "      <td>beer</td>\n",
       "      <td>1.0</td>\n",
       "    </tr>\n",
       "    <tr>\n",
       "      <th>4922</th>\n",
       "      <td>2010</td>\n",
       "      <td>0.00</td>\n",
       "      <td>Afghanistan</td>\n",
       "      <td>wine</td>\n",
       "      <td>0.0</td>\n",
       "    </tr>\n",
       "    <tr>\n",
       "      <th>4923</th>\n",
       "      <td>2010</td>\n",
       "      <td>0.00</td>\n",
       "      <td>Afghanistan</td>\n",
       "      <td>spirits</td>\n",
       "      <td>0.0</td>\n",
       "    </tr>\n",
       "    <tr>\n",
       "      <th>4924</th>\n",
       "      <td>2010</td>\n",
       "      <td>0.00</td>\n",
       "      <td>Afghanistan</td>\n",
       "      <td>others</td>\n",
       "      <td>0.0</td>\n",
       "    </tr>\n",
       "  </tbody>\n",
       "</table>\n",
       "</div>"
      ],
      "text/plain": [
       "      year  value      country beverage  serving\n",
       "4920  2010   0.01  Afghanistan      all      1.0\n",
       "4921  2010   0.01  Afghanistan     beer      1.0\n",
       "4922  2010   0.00  Afghanistan     wine      0.0\n",
       "4923  2010   0.00  Afghanistan  spirits      0.0\n",
       "4924  2010   0.00  Afghanistan   others      0.0"
      ]
     },
     "execution_count": 234,
     "metadata": {},
     "output_type": "execute_result"
    }
   ],
   "source": [
    "df2010.head()"
   ]
  },
  {
   "cell_type": "code",
   "execution_count": 235,
   "metadata": {
    "collapsed": false
   },
   "outputs": [],
   "source": [
    "dfSing = df[df.country == 'Singapore']"
   ]
  },
  {
   "cell_type": "code",
   "execution_count": 236,
   "metadata": {
    "collapsed": false
   },
   "outputs": [],
   "source": [
    "df2010Sing = df[(df.year == 2010) & (df.country == 'Singapore')]"
   ]
  },
  {
   "cell_type": "code",
   "execution_count": 237,
   "metadata": {
    "collapsed": false
   },
   "outputs": [
    {
     "data": {
      "text/html": [
       "<div>\n",
       "<table border=\"1\" class=\"dataframe\">\n",
       "  <thead>\n",
       "    <tr style=\"text-align: right;\">\n",
       "      <th></th>\n",
       "      <th>year</th>\n",
       "      <th>value</th>\n",
       "      <th>country</th>\n",
       "      <th>beverage</th>\n",
       "      <th>serving</th>\n",
       "    </tr>\n",
       "  </thead>\n",
       "  <tbody>\n",
       "    <tr>\n",
       "      <th>5709</th>\n",
       "      <td>2010</td>\n",
       "      <td>1.84</td>\n",
       "      <td>Singapore</td>\n",
       "      <td>all</td>\n",
       "      <td>102.0</td>\n",
       "    </tr>\n",
       "    <tr>\n",
       "      <th>5710</th>\n",
       "      <td>2010</td>\n",
       "      <td>1.29</td>\n",
       "      <td>Singapore</td>\n",
       "      <td>beer</td>\n",
       "      <td>72.0</td>\n",
       "    </tr>\n",
       "    <tr>\n",
       "      <th>5711</th>\n",
       "      <td>2010</td>\n",
       "      <td>0.25</td>\n",
       "      <td>Singapore</td>\n",
       "      <td>wine</td>\n",
       "      <td>14.0</td>\n",
       "    </tr>\n",
       "    <tr>\n",
       "      <th>5712</th>\n",
       "      <td>2010</td>\n",
       "      <td>0.27</td>\n",
       "      <td>Singapore</td>\n",
       "      <td>spirits</td>\n",
       "      <td>15.0</td>\n",
       "    </tr>\n",
       "    <tr>\n",
       "      <th>5713</th>\n",
       "      <td>2010</td>\n",
       "      <td>0.03</td>\n",
       "      <td>Singapore</td>\n",
       "      <td>others</td>\n",
       "      <td>2.0</td>\n",
       "    </tr>\n",
       "  </tbody>\n",
       "</table>\n",
       "</div>"
      ],
      "text/plain": [
       "      year  value    country beverage  serving\n",
       "5709  2010   1.84  Singapore      all    102.0\n",
       "5710  2010   1.29  Singapore     beer     72.0\n",
       "5711  2010   0.25  Singapore     wine     14.0\n",
       "5712  2010   0.27  Singapore  spirits     15.0\n",
       "5713  2010   0.03  Singapore   others      2.0"
      ]
     },
     "execution_count": 237,
     "metadata": {},
     "output_type": "execute_result"
    }
   ],
   "source": [
    "df2010Sing.head()"
   ]
  },
  {
   "cell_type": "markdown",
   "metadata": {},
   "source": [
    "## PRINCIPLE: Pivot Table\n",
    "\n",
    "Pivot table is a way to summarize data frame data into rows, columns and value\n",
    "\n",
    "![](img/pivot.png)"
   ]
  },
  {
   "cell_type": "code",
   "execution_count": 238,
   "metadata": {
    "collapsed": true
   },
   "outputs": [],
   "source": [
    "# Let us create a pivot for just serving in 2010\n",
    "df2010Serving = pd.pivot_table(df2010, values = \"serving\", columns = \"beverage\", index = \"country\")"
   ]
  },
  {
   "cell_type": "code",
   "execution_count": 239,
   "metadata": {
    "collapsed": false
   },
   "outputs": [],
   "source": [
    "df2010Serving = df2010Serving.reset_index()"
   ]
  },
  {
   "cell_type": "code",
   "execution_count": 240,
   "metadata": {
    "collapsed": false
   },
   "outputs": [
    {
     "data": {
      "text/html": [
       "<div>\n",
       "<table border=\"1\" class=\"dataframe\">\n",
       "  <thead>\n",
       "    <tr style=\"text-align: right;\">\n",
       "      <th>beverage</th>\n",
       "      <th>country</th>\n",
       "      <th>all</th>\n",
       "      <th>beer</th>\n",
       "      <th>others</th>\n",
       "      <th>spirits</th>\n",
       "      <th>wine</th>\n",
       "    </tr>\n",
       "  </thead>\n",
       "  <tbody>\n",
       "    <tr>\n",
       "      <th>0</th>\n",
       "      <td>Afghanistan</td>\n",
       "      <td>1.0</td>\n",
       "      <td>1.0</td>\n",
       "      <td>0.0</td>\n",
       "      <td>0.0</td>\n",
       "      <td>0.0</td>\n",
       "    </tr>\n",
       "    <tr>\n",
       "      <th>1</th>\n",
       "      <td>Albania</td>\n",
       "      <td>293.0</td>\n",
       "      <td>89.0</td>\n",
       "      <td>6.0</td>\n",
       "      <td>124.0</td>\n",
       "      <td>73.0</td>\n",
       "    </tr>\n",
       "    <tr>\n",
       "      <th>2</th>\n",
       "      <td>Algeria</td>\n",
       "      <td>25.0</td>\n",
       "      <td>9.0</td>\n",
       "      <td>0.0</td>\n",
       "      <td>2.0</td>\n",
       "      <td>13.0</td>\n",
       "    </tr>\n",
       "    <tr>\n",
       "      <th>3</th>\n",
       "      <td>Andorra</td>\n",
       "      <td>589.0</td>\n",
       "      <td>197.0</td>\n",
       "      <td>0.0</td>\n",
       "      <td>149.0</td>\n",
       "      <td>244.0</td>\n",
       "    </tr>\n",
       "    <tr>\n",
       "      <th>4</th>\n",
       "      <td>Angola</td>\n",
       "      <td>433.0</td>\n",
       "      <td>284.0</td>\n",
       "      <td>4.0</td>\n",
       "      <td>36.0</td>\n",
       "      <td>108.0</td>\n",
       "    </tr>\n",
       "  </tbody>\n",
       "</table>\n",
       "</div>"
      ],
      "text/plain": [
       "beverage      country    all   beer  others  spirits   wine\n",
       "0         Afghanistan    1.0    1.0     0.0      0.0    0.0\n",
       "1             Albania  293.0   89.0     6.0    124.0   73.0\n",
       "2             Algeria   25.0    9.0     0.0      2.0   13.0\n",
       "3             Andorra  589.0  197.0     0.0    149.0  244.0\n",
       "4              Angola  433.0  284.0     4.0     36.0  108.0"
      ]
     },
     "execution_count": 240,
     "metadata": {},
     "output_type": "execute_result"
    }
   ],
   "source": [
    "df2010Serving.head()"
   ]
  },
  {
   "cell_type": "code",
   "execution_count": 241,
   "metadata": {
    "collapsed": false
   },
   "outputs": [
    {
     "data": {
      "text/html": [
       "<div>\n",
       "<table border=\"1\" class=\"dataframe\">\n",
       "  <thead>\n",
       "    <tr style=\"text-align: right;\">\n",
       "      <th></th>\n",
       "      <th>year</th>\n",
       "      <th>value</th>\n",
       "      <th>country</th>\n",
       "      <th>beverage</th>\n",
       "      <th>serving</th>\n",
       "    </tr>\n",
       "  </thead>\n",
       "  <tbody>\n",
       "    <tr>\n",
       "      <th>789</th>\n",
       "      <td>2015</td>\n",
       "      <td>1.79</td>\n",
       "      <td>Singapore</td>\n",
       "      <td>all</td>\n",
       "      <td>99.0</td>\n",
       "    </tr>\n",
       "    <tr>\n",
       "      <th>790</th>\n",
       "      <td>2015</td>\n",
       "      <td>1.24</td>\n",
       "      <td>Singapore</td>\n",
       "      <td>beer</td>\n",
       "      <td>69.0</td>\n",
       "    </tr>\n",
       "    <tr>\n",
       "      <th>791</th>\n",
       "      <td>2015</td>\n",
       "      <td>0.27</td>\n",
       "      <td>Singapore</td>\n",
       "      <td>wine</td>\n",
       "      <td>15.0</td>\n",
       "    </tr>\n",
       "    <tr>\n",
       "      <th>792</th>\n",
       "      <td>2015</td>\n",
       "      <td>0.25</td>\n",
       "      <td>Singapore</td>\n",
       "      <td>spirits</td>\n",
       "      <td>14.0</td>\n",
       "    </tr>\n",
       "    <tr>\n",
       "      <th>793</th>\n",
       "      <td>2015</td>\n",
       "      <td>0.03</td>\n",
       "      <td>Singapore</td>\n",
       "      <td>others</td>\n",
       "      <td>2.0</td>\n",
       "    </tr>\n",
       "  </tbody>\n",
       "</table>\n",
       "</div>"
      ],
      "text/plain": [
       "     year  value    country beverage  serving\n",
       "789  2015   1.79  Singapore      all     99.0\n",
       "790  2015   1.24  Singapore     beer     69.0\n",
       "791  2015   0.27  Singapore     wine     15.0\n",
       "792  2015   0.25  Singapore  spirits     14.0\n",
       "793  2015   0.03  Singapore   others      2.0"
      ]
     },
     "execution_count": 241,
     "metadata": {},
     "output_type": "execute_result"
    }
   ],
   "source": [
    "dfSing.head()"
   ]
  },
  {
   "cell_type": "code",
   "execution_count": 242,
   "metadata": {
    "collapsed": true
   },
   "outputs": [],
   "source": [
    "# Let us create a pivot for just serving in 2010\n",
    "dfSingServing = pd.pivot_table(dfSing, values = \"serving\", columns = \"beverage\", index = \"year\")"
   ]
  },
  {
   "cell_type": "code",
   "execution_count": 243,
   "metadata": {
    "collapsed": true
   },
   "outputs": [],
   "source": [
    "dfSingServing = dfSingServing.reset_index()"
   ]
  },
  {
   "cell_type": "code",
   "execution_count": 244,
   "metadata": {
    "collapsed": false
   },
   "outputs": [
    {
     "data": {
      "text/html": [
       "<div>\n",
       "<table border=\"1\" class=\"dataframe\">\n",
       "  <thead>\n",
       "    <tr style=\"text-align: right;\">\n",
       "      <th>beverage</th>\n",
       "      <th>year</th>\n",
       "      <th>all</th>\n",
       "      <th>beer</th>\n",
       "      <th>others</th>\n",
       "      <th>spirits</th>\n",
       "      <th>wine</th>\n",
       "    </tr>\n",
       "  </thead>\n",
       "  <tbody>\n",
       "    <tr>\n",
       "      <th>0</th>\n",
       "      <td>1960</td>\n",
       "      <td>NaN</td>\n",
       "      <td>NaN</td>\n",
       "      <td>NaN</td>\n",
       "      <td>NaN</td>\n",
       "      <td>NaN</td>\n",
       "    </tr>\n",
       "    <tr>\n",
       "      <th>1</th>\n",
       "      <td>1961</td>\n",
       "      <td>122.0</td>\n",
       "      <td>84.0</td>\n",
       "      <td>10.0</td>\n",
       "      <td>26.0</td>\n",
       "      <td>2.0</td>\n",
       "    </tr>\n",
       "    <tr>\n",
       "      <th>2</th>\n",
       "      <td>1962</td>\n",
       "      <td>109.0</td>\n",
       "      <td>56.0</td>\n",
       "      <td>27.0</td>\n",
       "      <td>25.0</td>\n",
       "      <td>2.0</td>\n",
       "    </tr>\n",
       "    <tr>\n",
       "      <th>3</th>\n",
       "      <td>1963</td>\n",
       "      <td>123.0</td>\n",
       "      <td>64.0</td>\n",
       "      <td>27.0</td>\n",
       "      <td>29.0</td>\n",
       "      <td>2.0</td>\n",
       "    </tr>\n",
       "    <tr>\n",
       "      <th>4</th>\n",
       "      <td>1964</td>\n",
       "      <td>104.0</td>\n",
       "      <td>61.0</td>\n",
       "      <td>18.0</td>\n",
       "      <td>23.0</td>\n",
       "      <td>2.0</td>\n",
       "    </tr>\n",
       "  </tbody>\n",
       "</table>\n",
       "</div>"
      ],
      "text/plain": [
       "beverage  year    all  beer  others  spirits  wine\n",
       "0         1960    NaN   NaN     NaN      NaN   NaN\n",
       "1         1961  122.0  84.0    10.0     26.0   2.0\n",
       "2         1962  109.0  56.0    27.0     25.0   2.0\n",
       "3         1963  123.0  64.0    27.0     29.0   2.0\n",
       "4         1964  104.0  61.0    18.0     23.0   2.0"
      ]
     },
     "execution_count": 244,
     "metadata": {},
     "output_type": "execute_result"
    }
   ],
   "source": [
    "dfSingServing.head()"
   ]
  },
  {
   "cell_type": "markdown",
   "metadata": {},
   "source": [
    "# 4. Explore the Data\n",
    "\n",
    "> \"I don't know, what I don't know\"\n",
    "\n",
    "- Understand Data Structure & Types\n",
    "- Explore single variable graphs - (Quantitative, Categorical)\n",
    "- Explore dual variable graphs - (Q & Q, Q & C, C & C)\n",
    "- Explore multi variable graphs\n",
    "\n",
    "We want to first visually explore the data to see if we can confirm some of our initial hypotheses as well as make new hypothesis about the problem we are trying to solve."
   ]
  },
  {
   "cell_type": "code",
   "execution_count": 245,
   "metadata": {
    "collapsed": true
   },
   "outputs": [],
   "source": [
    "# Load the visualisation libraries - Matplotlib\n",
    "import matplotlib.pyplot as plt"
   ]
  },
  {
   "cell_type": "code",
   "execution_count": 246,
   "metadata": {
    "collapsed": true
   },
   "outputs": [],
   "source": [
    "# Let us see the output plots in the notebook itself\n",
    "%matplotlib inline"
   ]
  },
  {
   "cell_type": "code",
   "execution_count": 247,
   "metadata": {
    "collapsed": false
   },
   "outputs": [],
   "source": [
    "# Set some parameters to get good visuals - style to ggplot and size to 15,10\n",
    "plt.style.use('ggplot')\n",
    "plt.rcParams['figure.figsize'] = (15, 10)"
   ]
  },
  {
   "cell_type": "code",
   "execution_count": 248,
   "metadata": {
    "collapsed": false
   },
   "outputs": [],
   "source": [
    "# Sort them on Beer values\n",
    "df2010Serving.sort_values(by = \"spirits\", ascending = False, inplace=True)"
   ]
  },
  {
   "cell_type": "code",
   "execution_count": 249,
   "metadata": {
    "collapsed": false
   },
   "outputs": [
    {
     "data": {
      "text/html": [
       "<div>\n",
       "<table border=\"1\" class=\"dataframe\">\n",
       "  <thead>\n",
       "    <tr style=\"text-align: right;\">\n",
       "      <th>beverage</th>\n",
       "      <th>country</th>\n",
       "      <th>all</th>\n",
       "      <th>beer</th>\n",
       "      <th>others</th>\n",
       "      <th>spirits</th>\n",
       "      <th>wine</th>\n",
       "    </tr>\n",
       "  </thead>\n",
       "  <tbody>\n",
       "    <tr>\n",
       "      <th>15</th>\n",
       "      <td>Belarus</td>\n",
       "      <td>802.0</td>\n",
       "      <td>139.0</td>\n",
       "      <td>248.0</td>\n",
       "      <td>374.0</td>\n",
       "      <td>42.0</td>\n",
       "    </tr>\n",
       "    <tr>\n",
       "      <th>50</th>\n",
       "      <td>Dominica</td>\n",
       "      <td>414.0</td>\n",
       "      <td>27.0</td>\n",
       "      <td>4.0</td>\n",
       "      <td>342.0</td>\n",
       "      <td>41.0</td>\n",
       "    </tr>\n",
       "    <tr>\n",
       "      <th>39</th>\n",
       "      <td>Cook Islands</td>\n",
       "      <td>596.0</td>\n",
       "      <td>115.0</td>\n",
       "      <td>0.0</td>\n",
       "      <td>322.0</td>\n",
       "      <td>159.0</td>\n",
       "    </tr>\n",
       "    <tr>\n",
       "      <th>72</th>\n",
       "      <td>Guyana</td>\n",
       "      <td>418.0</td>\n",
       "      <td>97.0</td>\n",
       "      <td>2.0</td>\n",
       "      <td>319.0</td>\n",
       "      <td>1.0</td>\n",
       "    </tr>\n",
       "    <tr>\n",
       "      <th>73</th>\n",
       "      <td>Haiti</td>\n",
       "      <td>320.0</td>\n",
       "      <td>1.0</td>\n",
       "      <td>0.0</td>\n",
       "      <td>318.0</td>\n",
       "      <td>1.0</td>\n",
       "    </tr>\n",
       "    <tr>\n",
       "      <th>144</th>\n",
       "      <td>Saint Lucia</td>\n",
       "      <td>604.0</td>\n",
       "      <td>182.0</td>\n",
       "      <td>33.0</td>\n",
       "      <td>308.0</td>\n",
       "      <td>81.0</td>\n",
       "    </tr>\n",
       "    <tr>\n",
       "      <th>141</th>\n",
       "      <td>Russian Federation</td>\n",
       "      <td>614.0</td>\n",
       "      <td>228.0</td>\n",
       "      <td>7.0</td>\n",
       "      <td>307.0</td>\n",
       "      <td>71.0</td>\n",
       "    </tr>\n",
       "    <tr>\n",
       "      <th>25</th>\n",
       "      <td>Bulgaria</td>\n",
       "      <td>600.0</td>\n",
       "      <td>223.0</td>\n",
       "      <td>2.0</td>\n",
       "      <td>279.0</td>\n",
       "      <td>96.0</td>\n",
       "    </tr>\n",
       "    <tr>\n",
       "      <th>44</th>\n",
       "      <td>Cyprus</td>\n",
       "      <td>629.0</td>\n",
       "      <td>210.0</td>\n",
       "      <td>0.0</td>\n",
       "      <td>270.0</td>\n",
       "      <td>148.0</td>\n",
       "    </tr>\n",
       "    <tr>\n",
       "      <th>155</th>\n",
       "      <td>Slovakia</td>\n",
       "      <td>563.0</td>\n",
       "      <td>190.0</td>\n",
       "      <td>19.0</td>\n",
       "      <td>256.0</td>\n",
       "      <td>98.0</td>\n",
       "    </tr>\n",
       "  </tbody>\n",
       "</table>\n",
       "</div>"
      ],
      "text/plain": [
       "beverage             country    all   beer  others  spirits   wine\n",
       "15                   Belarus  802.0  139.0   248.0    374.0   42.0\n",
       "50                  Dominica  414.0   27.0     4.0    342.0   41.0\n",
       "39              Cook Islands  596.0  115.0     0.0    322.0  159.0\n",
       "72                    Guyana  418.0   97.0     2.0    319.0    1.0\n",
       "73                     Haiti  320.0    1.0     0.0    318.0    1.0\n",
       "144              Saint Lucia  604.0  182.0    33.0    308.0   81.0\n",
       "141       Russian Federation  614.0  228.0     7.0    307.0   71.0\n",
       "25                  Bulgaria  600.0  223.0     2.0    279.0   96.0\n",
       "44                    Cyprus  629.0  210.0     0.0    270.0  148.0\n",
       "155                 Slovakia  563.0  190.0    19.0    256.0   98.0"
      ]
     },
     "execution_count": 249,
     "metadata": {},
     "output_type": "execute_result"
    }
   ],
   "source": [
    "df2010Serving.head(10)"
   ]
  },
  {
   "cell_type": "code",
   "execution_count": 250,
   "metadata": {
    "collapsed": false
   },
   "outputs": [
    {
     "data": {
      "text/plain": [
       "<matplotlib.axes._subplots.AxesSubplot at 0x11ea49a90>"
      ]
     },
     "execution_count": 250,
     "metadata": {},
     "output_type": "execute_result"
    },
    {
     "data": {
      "image/png": "[encoded data removed]",
      "text/plain": [
       "<matplotlib.figure.Figure at 0x11ea4e0b8>"
      ]
     },
     "metadata": {},
     "output_type": "display_data"
    }
   ],
   "source": [
    "# Plot the Data\n",
    "df2010Serving.head(40).plot(kind =\"barh\", x = 'country', y = 'beer')"
   ]
  },
  {
   "cell_type": "code",
   "execution_count": 251,
   "metadata": {
    "collapsed": false
   },
   "outputs": [
    {
     "data": {
      "text/plain": [
       "<matplotlib.axes._subplots.AxesSubplot at 0x11e879048>"
      ]
     },
     "execution_count": 251,
     "metadata": {},
     "output_type": "execute_result"
    },
    {
     "data": {
      "image/png": "[encoded data removed]",
      "text/plain": [
       "<matplotlib.figure.Figure at 0x11c60dc88>"
      ]
     },
     "metadata": {},
     "output_type": "display_data"
    }
   ],
   "source": [
    "# Plot the histogram\n",
    "df2010Serving.beer.plot(kind =\"hist\",bins = 30, alpha=0.5)"
   ]
  },
  {
   "cell_type": "code",
   "execution_count": 253,
   "metadata": {
    "collapsed": false
   },
   "outputs": [
    {
     "data": {
      "text/plain": [
       "<matplotlib.axes._subplots.AxesSubplot at 0x1093b5898>"
      ]
     },
     "execution_count": 253,
     "metadata": {},
     "output_type": "execute_result"
    },
    {
     "data": {
      "image/png": "[encoded data removed]",
      "text/plain": [
       "<matplotlib.figure.Figure at 0x11d255d68>"
      ]
     },
     "metadata": {},
     "output_type": "display_data"
    }
   ],
   "source": [
    "# Plots the Singapore Data\n",
    "dfSingServing.plot(kind = \"line\", x = \"year\", y = ['all', 'beer', 'wine', 'spirits', 'others'])"
   ]
  },
  {
   "cell_type": "markdown",
   "metadata": {},
   "source": [
    "## Model the Data\n",
    "\n",
    "> \"All models are wrong, Some of them are useful\"\n",
    "\n",
    "- Statistical testing\n",
    "- The power and limits of models\n",
    "- Tradeoff between Prediction Accuracy and Model Interpretability\n",
    "- Assessing Model Accuracy\n",
    "- Regression models (Simple, Multiple)\n",
    "- Classification model"
   ]
  },
  {
   "cell_type": "markdown",
   "metadata": {},
   "source": [
    "We want to test whether the alcohol consumption has really declined in recent times. To do that we will do a t-test, in which we will check whether the consumption before and after 1990 are really different. \n",
    "\n",
    "https://en.wikipedia.org/wiki/Student%27s_t-test#Independent_two-sample_t-test\n",
    "https://en.wikipedia.org/wiki/Welch%27s_t-test"
   ]
  },
  {
   "cell_type": "code",
   "execution_count": 255,
   "metadata": {
    "collapsed": false
   },
   "outputs": [
    {
     "data": {
      "text/html": [
       "<div>\n",
       "<table border=\"1\" class=\"dataframe\">\n",
       "  <thead>\n",
       "    <tr style=\"text-align: right;\">\n",
       "      <th></th>\n",
       "      <th>year</th>\n",
       "      <th>value</th>\n",
       "      <th>country</th>\n",
       "      <th>beverage</th>\n",
       "      <th>serving</th>\n",
       "    </tr>\n",
       "  </thead>\n",
       "  <tbody>\n",
       "    <tr>\n",
       "      <th>789</th>\n",
       "      <td>2015</td>\n",
       "      <td>1.79</td>\n",
       "      <td>Singapore</td>\n",
       "      <td>all</td>\n",
       "      <td>99.0</td>\n",
       "    </tr>\n",
       "    <tr>\n",
       "      <th>790</th>\n",
       "      <td>2015</td>\n",
       "      <td>1.24</td>\n",
       "      <td>Singapore</td>\n",
       "      <td>beer</td>\n",
       "      <td>69.0</td>\n",
       "    </tr>\n",
       "    <tr>\n",
       "      <th>791</th>\n",
       "      <td>2015</td>\n",
       "      <td>0.27</td>\n",
       "      <td>Singapore</td>\n",
       "      <td>wine</td>\n",
       "      <td>15.0</td>\n",
       "    </tr>\n",
       "    <tr>\n",
       "      <th>792</th>\n",
       "      <td>2015</td>\n",
       "      <td>0.25</td>\n",
       "      <td>Singapore</td>\n",
       "      <td>spirits</td>\n",
       "      <td>14.0</td>\n",
       "    </tr>\n",
       "    <tr>\n",
       "      <th>793</th>\n",
       "      <td>2015</td>\n",
       "      <td>0.03</td>\n",
       "      <td>Singapore</td>\n",
       "      <td>others</td>\n",
       "      <td>2.0</td>\n",
       "    </tr>\n",
       "  </tbody>\n",
       "</table>\n",
       "</div>"
      ],
      "text/plain": [
       "     year  value    country beverage  serving\n",
       "789  2015   1.79  Singapore      all     99.0\n",
       "790  2015   1.24  Singapore     beer     69.0\n",
       "791  2015   0.27  Singapore     wine     15.0\n",
       "792  2015   0.25  Singapore  spirits     14.0\n",
       "793  2015   0.03  Singapore   others      2.0"
      ]
     },
     "execution_count": 255,
     "metadata": {},
     "output_type": "execute_result"
    }
   ],
   "source": [
    "dfSing.head()"
   ]
  },
  {
   "cell_type": "code",
   "execution_count": 276,
   "metadata": {
    "collapsed": false
   },
   "outputs": [],
   "source": [
    "dfSingAll = dfSing[dfSing.beverage == 'all'].copy()"
   ]
  },
  {
   "cell_type": "code",
   "execution_count": 277,
   "metadata": {
    "collapsed": false
   },
   "outputs": [
    {
     "data": {
      "text/html": [
       "<div>\n",
       "<table border=\"1\" class=\"dataframe\">\n",
       "  <thead>\n",
       "    <tr style=\"text-align: right;\">\n",
       "      <th></th>\n",
       "      <th>year</th>\n",
       "      <th>value</th>\n",
       "      <th>country</th>\n",
       "      <th>beverage</th>\n",
       "      <th>serving</th>\n",
       "    </tr>\n",
       "  </thead>\n",
       "  <tbody>\n",
       "    <tr>\n",
       "      <th>789</th>\n",
       "      <td>2015</td>\n",
       "      <td>1.79</td>\n",
       "      <td>Singapore</td>\n",
       "      <td>all</td>\n",
       "      <td>99.0</td>\n",
       "    </tr>\n",
       "    <tr>\n",
       "      <th>1773</th>\n",
       "      <td>2014</td>\n",
       "      <td>1.83</td>\n",
       "      <td>Singapore</td>\n",
       "      <td>all</td>\n",
       "      <td>102.0</td>\n",
       "    </tr>\n",
       "    <tr>\n",
       "      <th>2757</th>\n",
       "      <td>2013</td>\n",
       "      <td>1.83</td>\n",
       "      <td>Singapore</td>\n",
       "      <td>all</td>\n",
       "      <td>102.0</td>\n",
       "    </tr>\n",
       "    <tr>\n",
       "      <th>3741</th>\n",
       "      <td>2012</td>\n",
       "      <td>1.89</td>\n",
       "      <td>Singapore</td>\n",
       "      <td>all</td>\n",
       "      <td>105.0</td>\n",
       "    </tr>\n",
       "    <tr>\n",
       "      <th>4725</th>\n",
       "      <td>2011</td>\n",
       "      <td>1.80</td>\n",
       "      <td>Singapore</td>\n",
       "      <td>all</td>\n",
       "      <td>100.0</td>\n",
       "    </tr>\n",
       "  </tbody>\n",
       "</table>\n",
       "</div>"
      ],
      "text/plain": [
       "      year  value    country beverage  serving\n",
       "789   2015   1.79  Singapore      all     99.0\n",
       "1773  2014   1.83  Singapore      all    102.0\n",
       "2757  2013   1.83  Singapore      all    102.0\n",
       "3741  2012   1.89  Singapore      all    105.0\n",
       "4725  2011   1.80  Singapore      all    100.0"
      ]
     },
     "execution_count": 277,
     "metadata": {},
     "output_type": "execute_result"
    }
   ],
   "source": [
    "dfSingAll.head()"
   ]
  },
  {
   "cell_type": "code",
   "execution_count": 278,
   "metadata": {
    "collapsed": false
   },
   "outputs": [],
   "source": [
    "# Create a new column\n",
    "dfSingAll['split'] = dfSingAll.year < 1990"
   ]
  },
  {
   "cell_type": "code",
   "execution_count": 279,
   "metadata": {
    "collapsed": false
   },
   "outputs": [
    {
     "data": {
      "text/html": [
       "<div>\n",
       "<table border=\"1\" class=\"dataframe\">\n",
       "  <thead>\n",
       "    <tr style=\"text-align: right;\">\n",
       "      <th></th>\n",
       "      <th>year</th>\n",
       "      <th>value</th>\n",
       "      <th>country</th>\n",
       "      <th>beverage</th>\n",
       "      <th>serving</th>\n",
       "      <th>split</th>\n",
       "    </tr>\n",
       "  </thead>\n",
       "  <tbody>\n",
       "    <tr>\n",
       "      <th>789</th>\n",
       "      <td>2015</td>\n",
       "      <td>1.79</td>\n",
       "      <td>Singapore</td>\n",
       "      <td>all</td>\n",
       "      <td>99.0</td>\n",
       "      <td>False</td>\n",
       "    </tr>\n",
       "    <tr>\n",
       "      <th>1773</th>\n",
       "      <td>2014</td>\n",
       "      <td>1.83</td>\n",
       "      <td>Singapore</td>\n",
       "      <td>all</td>\n",
       "      <td>102.0</td>\n",
       "      <td>False</td>\n",
       "    </tr>\n",
       "    <tr>\n",
       "      <th>2757</th>\n",
       "      <td>2013</td>\n",
       "      <td>1.83</td>\n",
       "      <td>Singapore</td>\n",
       "      <td>all</td>\n",
       "      <td>102.0</td>\n",
       "      <td>False</td>\n",
       "    </tr>\n",
       "    <tr>\n",
       "      <th>3741</th>\n",
       "      <td>2012</td>\n",
       "      <td>1.89</td>\n",
       "      <td>Singapore</td>\n",
       "      <td>all</td>\n",
       "      <td>105.0</td>\n",
       "      <td>False</td>\n",
       "    </tr>\n",
       "    <tr>\n",
       "      <th>4725</th>\n",
       "      <td>2011</td>\n",
       "      <td>1.80</td>\n",
       "      <td>Singapore</td>\n",
       "      <td>all</td>\n",
       "      <td>100.0</td>\n",
       "      <td>False</td>\n",
       "    </tr>\n",
       "  </tbody>\n",
       "</table>\n",
       "</div>"
      ],
      "text/plain": [
       "      year  value    country beverage  serving  split\n",
       "789   2015   1.79  Singapore      all     99.0  False\n",
       "1773  2014   1.83  Singapore      all    102.0  False\n",
       "2757  2013   1.83  Singapore      all    102.0  False\n",
       "3741  2012   1.89  Singapore      all    105.0  False\n",
       "4725  2011   1.80  Singapore      all    100.0  False"
      ]
     },
     "execution_count": 279,
     "metadata": {},
     "output_type": "execute_result"
    }
   ],
   "source": [
    "dfSingAll.head()"
   ]
  },
  {
   "cell_type": "code",
   "execution_count": 280,
   "metadata": {
    "collapsed": false
   },
   "outputs": [
    {
     "data": {
      "text/plain": [
       "array([<matplotlib.axes._subplots.AxesSubplot object at 0x121381390>,\n",
       "       <matplotlib.axes._subplots.AxesSubplot object at 0x1217918d0>], dtype=object)"
      ]
     },
     "execution_count": 280,
     "metadata": {},
     "output_type": "execute_result"
    },
    {
     "data": {
      "image/png": "[encoded data removed]",
      "text/plain": [
       "<matplotlib.figure.Figure at 0x1213a4e48>"
      ]
     },
     "metadata": {},
     "output_type": "display_data"
    }
   ],
   "source": [
    "# Let us plot the two samples\n",
    "dfSingAll.hist(column = \"serving\", by = \"split\", sharex = True, sharey= True)"
   ]
  },
  {
   "cell_type": "code",
   "execution_count": 266,
   "metadata": {
    "collapsed": false
   },
   "outputs": [],
   "source": [
    "from scipy import stats\n",
    "np.random.seed(12345678)"
   ]
  },
  {
   "cell_type": "code",
   "execution_count": 288,
   "metadata": {
    "collapsed": false
   },
   "outputs": [],
   "source": [
    "sampleA = dfSingAll[dfSingAll.split == True].serving\n",
    "sampleB = dfSingAll[dfSingAll.split == False].serving"
   ]
  },
  {
   "cell_type": "code",
   "execution_count": 289,
   "metadata": {
    "collapsed": false
   },
   "outputs": [
    {
     "data": {
      "text/plain": [
       "(30,)"
      ]
     },
     "execution_count": 289,
     "metadata": {},
     "output_type": "execute_result"
    }
   ],
   "source": [
    "sampleA.shape"
   ]
  },
  {
   "cell_type": "code",
   "execution_count": 290,
   "metadata": {
    "collapsed": false
   },
   "outputs": [
    {
     "data": {
      "text/plain": [
       "(26,)"
      ]
     },
     "execution_count": 290,
     "metadata": {},
     "output_type": "execute_result"
    }
   ],
   "source": [
    "sampleB.shape"
   ]
  },
  {
   "cell_type": "code",
   "execution_count": 294,
   "metadata": {
    "collapsed": false
   },
   "outputs": [
    {
     "data": {
      "text/plain": [
       "Ttest_indResult(statistic=5.7188435645402418, pvalue=6.8300746615946395e-07)"
      ]
     },
     "execution_count": 294,
     "metadata": {},
     "output_type": "execute_result"
    }
   ],
   "source": [
    "stats.ttest_ind(sampleA, sampleB, equal_var = False, nan_policy = 'omit')"
   ]
  },
  {
   "cell_type": "markdown",
   "metadata": {},
   "source": [
    "## Share the Insight \n",
    "\n",
    "> \"The goal is to turn data into insight\"\n",
    "\n",
    "- Why do we need to communicate insight?\n",
    "- Types of communication - Exploration vs. Explanation\n",
    "- Explanation: Telling a story with data\n",
    "- Exploration: Building an interface for people to find stories"
   ]
  },
  {
   "cell_type": "code",
   "execution_count": 300,
   "metadata": {
    "collapsed": false
   },
   "outputs": [
    {
     "data": {
      "text/html": [
       "<div>\n",
       "<table border=\"1\" class=\"dataframe\">\n",
       "  <thead>\n",
       "    <tr style=\"text-align: right;\">\n",
       "      <th>beverage</th>\n",
       "      <th>country</th>\n",
       "      <th>all</th>\n",
       "      <th>beer</th>\n",
       "      <th>others</th>\n",
       "      <th>spirits</th>\n",
       "      <th>wine</th>\n",
       "    </tr>\n",
       "  </thead>\n",
       "  <tbody>\n",
       "    <tr>\n",
       "      <th>15</th>\n",
       "      <td>Belarus</td>\n",
       "      <td>802.0</td>\n",
       "      <td>139.0</td>\n",
       "      <td>248.0</td>\n",
       "      <td>374.0</td>\n",
       "      <td>42.0</td>\n",
       "    </tr>\n",
       "    <tr>\n",
       "      <th>50</th>\n",
       "      <td>Dominica</td>\n",
       "      <td>414.0</td>\n",
       "      <td>27.0</td>\n",
       "      <td>4.0</td>\n",
       "      <td>342.0</td>\n",
       "      <td>41.0</td>\n",
       "    </tr>\n",
       "    <tr>\n",
       "      <th>39</th>\n",
       "      <td>Cook Islands</td>\n",
       "      <td>596.0</td>\n",
       "      <td>115.0</td>\n",
       "      <td>0.0</td>\n",
       "      <td>322.0</td>\n",
       "      <td>159.0</td>\n",
       "    </tr>\n",
       "    <tr>\n",
       "      <th>72</th>\n",
       "      <td>Guyana</td>\n",
       "      <td>418.0</td>\n",
       "      <td>97.0</td>\n",
       "      <td>2.0</td>\n",
       "      <td>319.0</td>\n",
       "      <td>1.0</td>\n",
       "    </tr>\n",
       "    <tr>\n",
       "      <th>73</th>\n",
       "      <td>Haiti</td>\n",
       "      <td>320.0</td>\n",
       "      <td>1.0</td>\n",
       "      <td>0.0</td>\n",
       "      <td>318.0</td>\n",
       "      <td>1.0</td>\n",
       "    </tr>\n",
       "  </tbody>\n",
       "</table>\n",
       "</div>"
      ],
      "text/plain": [
       "beverage       country    all   beer  others  spirits   wine\n",
       "15             Belarus  802.0  139.0   248.0    374.0   42.0\n",
       "50            Dominica  414.0   27.0     4.0    342.0   41.0\n",
       "39        Cook Islands  596.0  115.0     0.0    322.0  159.0\n",
       "72              Guyana  418.0   97.0     2.0    319.0    1.0\n",
       "73               Haiti  320.0    1.0     0.0    318.0    1.0"
      ]
     },
     "execution_count": 300,
     "metadata": {},
     "output_type": "execute_result"
    }
   ],
   "source": [
    "df2010Serving.head()"
   ]
  },
  {
   "cell_type": "code",
   "execution_count": 307,
   "metadata": {
    "collapsed": false
   },
   "outputs": [
    {
     "data": {
      "text/plain": [
       "108.95238095238095"
      ]
     },
     "execution_count": 307,
     "metadata": {},
     "output_type": "execute_result"
    }
   ],
   "source": [
    "beerMean = df2010Serving.beer.mean()\n",
    "beerMean"
   ]
  },
  {
   "cell_type": "code",
   "execution_count": 308,
   "metadata": {
    "collapsed": false
   },
   "outputs": [
    {
     "data": {
      "text/plain": [
       "56.798941798941797"
      ]
     },
     "execution_count": 308,
     "metadata": {},
     "output_type": "execute_result"
    }
   ],
   "source": [
    "wineMean = df2010Serving.wine.mean()\n",
    "wineMean"
   ]
  },
  {
   "cell_type": "code",
   "execution_count": 311,
   "metadata": {
    "collapsed": false
   },
   "outputs": [
    {
     "data": {
      "text/plain": [
       "<matplotlib.lines.Line2D at 0x10b52c860>"
      ]
     },
     "execution_count": 311,
     "metadata": {},
     "output_type": "execute_result"
    },
    {
     "data": {
      "image/png": "[encoded data removed]",
      "text/plain": [
       "<matplotlib.figure.Figure at 0x10b52c908>"
      ]
     },
     "metadata": {},
     "output_type": "display_data"
    }
   ],
   "source": [
    "df2010Serving.plot(kind = \"scatter\", x =\"beer\", y= \"wine\", s = df2010Serving['all'], alpha = 0.7)\n",
    "plt.axvline(beerMean, color='r')\n",
    "plt.axhline(wineMean, color='r')"
   ]
  }
 ],
 "metadata": {
  "kernelspec": {
   "display_name": "Python 3",
   "language": "python",
   "name": "python3"
  },
  "language_info": {
   "codemirror_mode": {
    "name": "ipython",
    "version": 3
   },
   "file_extension": ".py",
   "mimetype": "text/x-python",
   "name": "python",
   "nbconvert_exporter": "python",
   "pygments_lexer": "ipython3",
   "version": "3.5.1"
  }
 },
 "nbformat": 4,
 "nbformat_minor": 0
}
